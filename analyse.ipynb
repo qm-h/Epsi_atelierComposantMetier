{
 "cells": [
  {
   "cell_type": "code",
   "execution_count": 40,
   "outputs": [],
   "source": [
    "# récupération des données stocker : X et Y (Stored X)\n",
    "X = None\n",
    "Y = None\n",
    "%store -r X\n",
    "%store -r Y"
   ],
   "metadata": {
    "collapsed": false,
    "ExecuteTime": {
     "end_time": "2023-09-12T13:30:14.593706Z",
     "start_time": "2023-09-12T13:30:14.522584Z"
    }
   },
   "id": "7568f96473d06e2a"
  },
  {
   "cell_type": "markdown",
   "source": [
    "## Analyse des données"
   ],
   "metadata": {
    "collapsed": false
   },
   "id": "a199f1772df71879"
  },
  {
   "cell_type": "code",
   "execution_count": 41,
   "outputs": [],
   "source": [
    "# Importation des librairies\n",
    "import matplotlib.pyplot as plt\n",
    "import numpy as np\n",
    "import pandas as pd"
   ],
   "metadata": {
    "collapsed": false,
    "ExecuteTime": {
     "end_time": "2023-09-12T13:30:14.595227Z",
     "start_time": "2023-09-12T13:30:14.531188Z"
    }
   },
   "id": "1a2fa9345250abc"
  },
  {
   "cell_type": "code",
   "execution_count": 42,
   "outputs": [
    {
     "data": {
      "text/plain": "       Date_inspection  APP_Libelle_activite_etablissement    latitude  \\\n0         1.682381e+09                                   0  49985274.0   \n1         1.677110e+09                                   0   4615861.0   \n2         1.664842e+09                                   1  48881317.0   \n4         1.678234e+09                                   1  48844091.0   \n5         1.682381e+09                                   1  48072687.0   \n...                ...                                 ...         ...   \n32715     1.680134e+09                                  29  21206368.0   \n32716     1.669248e+09                                   0  48873997.0   \n32717     1.681690e+09                                  21  44078462.0   \n32718     1.686874e+09                                   0  45738402.0   \n32719     1.680134e+09                                  22  21206368.0   \n\n        longitude  \n0       1561386.0  \n1       6677963.0  \n2        223746.0  \n4       2219818.0  \n5       4185142.0  \n...           ...  \n32715  55337063.0  \n32716   2341843.0  \n32717   5999322.0  \n32718   4837636.0  \n32719  55337063.0  \n\n[31961 rows x 4 columns]",
      "text/html": "<div>\n<style scoped>\n    .dataframe tbody tr th:only-of-type {\n        vertical-align: middle;\n    }\n\n    .dataframe tbody tr th {\n        vertical-align: top;\n    }\n\n    .dataframe thead th {\n        text-align: right;\n    }\n</style>\n<table border=\"1\" class=\"dataframe\">\n  <thead>\n    <tr style=\"text-align: right;\">\n      <th></th>\n      <th>Date_inspection</th>\n      <th>APP_Libelle_activite_etablissement</th>\n      <th>latitude</th>\n      <th>longitude</th>\n    </tr>\n  </thead>\n  <tbody>\n    <tr>\n      <th>0</th>\n      <td>1.682381e+09</td>\n      <td>0</td>\n      <td>49985274.0</td>\n      <td>1561386.0</td>\n    </tr>\n    <tr>\n      <th>1</th>\n      <td>1.677110e+09</td>\n      <td>0</td>\n      <td>4615861.0</td>\n      <td>6677963.0</td>\n    </tr>\n    <tr>\n      <th>2</th>\n      <td>1.664842e+09</td>\n      <td>1</td>\n      <td>48881317.0</td>\n      <td>223746.0</td>\n    </tr>\n    <tr>\n      <th>4</th>\n      <td>1.678234e+09</td>\n      <td>1</td>\n      <td>48844091.0</td>\n      <td>2219818.0</td>\n    </tr>\n    <tr>\n      <th>5</th>\n      <td>1.682381e+09</td>\n      <td>1</td>\n      <td>48072687.0</td>\n      <td>4185142.0</td>\n    </tr>\n    <tr>\n      <th>...</th>\n      <td>...</td>\n      <td>...</td>\n      <td>...</td>\n      <td>...</td>\n    </tr>\n    <tr>\n      <th>32715</th>\n      <td>1.680134e+09</td>\n      <td>29</td>\n      <td>21206368.0</td>\n      <td>55337063.0</td>\n    </tr>\n    <tr>\n      <th>32716</th>\n      <td>1.669248e+09</td>\n      <td>0</td>\n      <td>48873997.0</td>\n      <td>2341843.0</td>\n    </tr>\n    <tr>\n      <th>32717</th>\n      <td>1.681690e+09</td>\n      <td>21</td>\n      <td>44078462.0</td>\n      <td>5999322.0</td>\n    </tr>\n    <tr>\n      <th>32718</th>\n      <td>1.686874e+09</td>\n      <td>0</td>\n      <td>45738402.0</td>\n      <td>4837636.0</td>\n    </tr>\n    <tr>\n      <th>32719</th>\n      <td>1.680134e+09</td>\n      <td>22</td>\n      <td>21206368.0</td>\n      <td>55337063.0</td>\n    </tr>\n  </tbody>\n</table>\n<p>31961 rows × 4 columns</p>\n</div>"
     },
     "execution_count": 42,
     "metadata": {},
     "output_type": "execute_result"
    }
   ],
   "source": [
    "X"
   ],
   "metadata": {
    "collapsed": false,
    "ExecuteTime": {
     "end_time": "2023-09-12T13:30:14.713025Z",
     "start_time": "2023-09-12T13:30:14.551007Z"
    }
   },
   "id": "bca163b85976b41a"
  },
  {
   "cell_type": "code",
   "execution_count": 43,
   "outputs": [
    {
     "data": {
      "text/plain": "0             Satisfaisant\n1             Satisfaisant\n2             Satisfaisant\n4              A améliorer\n5        Très satisfaisant\n               ...        \n32715         Satisfaisant\n32716         Satisfaisant\n32717         Satisfaisant\n32718         Satisfaisant\n32719         Satisfaisant\nName: Synthese_eval_sanit, Length: 31961, dtype: object"
     },
     "execution_count": 43,
     "metadata": {},
     "output_type": "execute_result"
    }
   ],
   "source": [
    "Y"
   ],
   "metadata": {
    "collapsed": false,
    "ExecuteTime": {
     "end_time": "2023-09-12T13:30:14.717491Z",
     "start_time": "2023-09-12T13:30:14.558424Z"
    }
   },
   "id": "ce42bd43488e3f23"
  },
  {
   "cell_type": "markdown",
   "source": [
    "## Séparation des données en données d'entrainement et de test"
   ],
   "metadata": {
    "collapsed": false
   },
   "id": "cfd43b210c0609e1"
  },
  {
   "cell_type": "code",
   "execution_count": 44,
   "outputs": [
    {
     "data": {
      "text/plain": "(31961, 31961)"
     },
     "execution_count": 44,
     "metadata": {},
     "output_type": "execute_result"
    }
   ],
   "source": [
    "len(X), len(Y)"
   ],
   "metadata": {
    "collapsed": false,
    "ExecuteTime": {
     "end_time": "2023-09-12T13:30:14.717778Z",
     "start_time": "2023-09-12T13:30:14.564887Z"
    }
   },
   "id": "d483c26c14f86d20"
  },
  {
   "cell_type": "code",
   "execution_count": 45,
   "outputs": [
    {
     "data": {
      "text/plain": "(25568, 6393, 25568, 6393)"
     },
     "execution_count": 45,
     "metadata": {},
     "output_type": "execute_result"
    }
   ],
   "source": [
    "from sklearn.model_selection import train_test_split\n",
    "from sklearn.preprocessing import LabelEncoder\n",
    "\n",
    "X_train, X_valid, y_train, y_valid = train_test_split(X, Y, test_size=0.2)\n",
    "len(X_train), len(X_valid), len(y_train), len(y_valid)"
   ],
   "metadata": {
    "collapsed": false,
    "ExecuteTime": {
     "end_time": "2023-09-12T13:30:14.731184Z",
     "start_time": "2023-09-12T13:30:14.572956Z"
    }
   },
   "id": "fe0e991bdb4613e"
  },
  {
   "cell_type": "code",
   "execution_count": 46,
   "outputs": [],
   "source": [
    "label_encoder = LabelEncoder()\n",
    "y_train_encoded = label_encoder.fit_transform(y_train)\n",
    "y_valid_encoded = label_encoder.transform(y_valid)"
   ],
   "metadata": {
    "collapsed": false,
    "ExecuteTime": {
     "end_time": "2023-09-12T13:30:14.731393Z",
     "start_time": "2023-09-12T13:30:14.584160Z"
    }
   },
   "id": "3f21131cce9c803d"
  },
  {
   "cell_type": "code",
   "execution_count": 47,
   "outputs": [
    {
     "data": {
      "text/plain": "((25568, 4), (25568,), (6393, 4), (6393,))"
     },
     "execution_count": 47,
     "metadata": {},
     "output_type": "execute_result"
    }
   ],
   "source": [
    "X_train.shape, y_train_encoded.shape, X_valid.shape, y_valid_encoded.shape"
   ],
   "metadata": {
    "collapsed": false,
    "ExecuteTime": {
     "end_time": "2023-09-12T13:30:14.732925Z",
     "start_time": "2023-09-12T13:30:14.596464Z"
    }
   },
   "id": "eb5b74f15a3ce9de"
  },
  {
   "cell_type": "markdown",
   "source": [
    "## Entrainement sur plusieurs modèle de classification"
   ],
   "metadata": {
    "collapsed": false
   },
   "id": "f7baa394fd04fed9"
  },
  {
   "cell_type": "code",
   "execution_count": 48,
   "outputs": [],
   "source": [
    "# Importation des librairies de classification\n",
    "from sklearn.ensemble import RandomForestClassifier\n",
    "from sklearn.neighbors import KNeighborsClassifier\n",
    "from sklearn.naive_bayes import GaussianNB\n",
    "from sklearn.neural_network import MLPClassifier\n",
    "from sklearn.linear_model import SGDClassifier\n",
    "from sklearn.ensemble import GradientBoostingClassifier\n",
    "from sklearn.ensemble import AdaBoostClassifier"
   ],
   "metadata": {
    "collapsed": false,
    "ExecuteTime": {
     "end_time": "2023-09-12T13:30:14.733102Z",
     "start_time": "2023-09-12T13:30:14.607289Z"
    }
   },
   "id": "5b30425f25621686"
  },
  {
   "cell_type": "code",
   "execution_count": 49,
   "outputs": [
    {
     "name": "stdout",
     "output_type": "stream",
     "text": [
      "KNN: 0.554825590489598\n",
      "Random Forest: 0.6295948693883936\n",
      "Gradient Boosting: 0.6191146566557172\n",
      "AdaBoost: 0.5878304395432504\n",
      "Gaussian NB: 0.5396527451900516\n",
      "MLP Classifier: 0.5502893790082903\n",
      "SGD: 0.06069138119818551\n"
     ]
    }
   ],
   "source": [
    "models = {\n",
    "    \"KNN\": KNeighborsClassifier(n_jobs=-1),\n",
    "    \"Random Forest\": RandomForestClassifier(n_jobs=-1),\n",
    "    \"Gradient Boosting\": GradientBoostingClassifier(),\n",
    "    \"AdaBoost\": AdaBoostClassifier(),\n",
    "    \"Gaussian NB\": GaussianNB(),\n",
    "    \"MLP Classifier\": MLPClassifier(max_iter=1000),\n",
    "    \"SGD\": SGDClassifier(),\n",
    "}\n",
    "\n",
    "def fit_and_score(models, X_train, X_test, y_train, y_test):\n",
    "    # Random seed for reproducible results\n",
    "    np.random.seed(42)\n",
    "    model_scores = {}\n",
    "    for name, model in models.items():\n",
    "        model.fit(X_train, y_train)\n",
    "        model_scores[name] = model.score(X_test, y_test)\n",
    "    return model_scores\n",
    "\n",
    "model_scores = fit_and_score(models, X_train, X_valid, y_train_encoded, y_valid_encoded)\n",
    "\n",
    "for model, score in model_scores.items():\n",
    "    print(f\"{model}: {score}\")"
   ],
   "metadata": {
    "collapsed": false,
    "ExecuteTime": {
     "end_time": "2023-09-12T13:30:31.227660Z",
     "start_time": "2023-09-12T13:30:14.637242Z"
    }
   },
   "id": "3cc2ece40bb9c36f"
  },
  {
   "cell_type": "markdown",
   "source": [
    "## Affichage des résultats"
   ],
   "metadata": {
    "collapsed": false
   },
   "id": "4b268cbfe1aad7c8"
  },
  {
   "cell_type": "code",
   "execution_count": 50,
   "outputs": [
    {
     "data": {
      "text/plain": "<Figure size 640x480 with 1 Axes>",
      "image/png": "[encoded data removed]"
     },
     "metadata": {},
     "output_type": "display_data"
    }
   ],
   "source": [
    "# Affichage des résultats\n",
    "model_compare = pd.DataFrame(model_scores, index=['accuracy'])\n",
    "model_compare.T.plot.barh(color='red');"
   ],
   "metadata": {
    "collapsed": false,
    "ExecuteTime": {
     "end_time": "2023-09-12T13:30:31.471973Z",
     "start_time": "2023-09-12T13:30:31.222357Z"
    }
   },
   "id": "796ff69228908804"
  },
  {
   "cell_type": "markdown",
   "source": [
    "## Optimisation des modèles"
   ],
   "metadata": {
    "collapsed": false
   },
   "id": "ee6c85694fadb664"
  },
  {
   "cell_type": "code",
   "execution_count": 51,
   "outputs": [],
   "source": [
    "# Importation des librairies\n",
    "from sklearn.model_selection import RandomizedSearchCV"
   ],
   "metadata": {
    "collapsed": false,
    "ExecuteTime": {
     "end_time": "2023-09-12T13:30:31.472314Z",
     "start_time": "2023-09-12T13:30:31.467284Z"
    }
   },
   "id": "d76df23488acf998"
  },
  {
   "cell_type": "code",
   "execution_count": 52,
   "outputs": [
    {
     "name": "stdout",
     "output_type": "stream",
     "text": [
      "Fitting 5 folds for each of 20 candidates, totalling 100 fits\n"
     ]
    },
    {
     "data": {
      "text/plain": "{'n_estimators': 310,\n 'min_samples_split': 18,\n 'min_samples_leaf': 3,\n 'max_samples': 10000,\n 'max_features': 'auto',\n 'max_depth': None}"
     },
     "execution_count": 52,
     "metadata": {},
     "output_type": "execute_result"
    }
   ],
   "source": [
    "# Optimisation du model RandomForest avec les meilleurs paramètres\n",
    "rf_params = {\n",
    "    'n_estimators': np.arange(10, 1000, 50),\n",
    "    'max_depth': [None, 3, 5, 10],\n",
    "    'min_samples_split': np.arange(2, 20, 2),\n",
    "    'min_samples_leaf': np.arange(1, 20, 2),\n",
    "    'max_features': [0.5, 1, 'sqrt', 'auto'],\n",
    "    'max_samples': [10000]\n",
    "}\n",
    "\n",
    "# Instanciation du modèle\n",
    "rs_rf = RandomizedSearchCV(RandomForestClassifier(n_jobs=-1),\n",
    "                                   param_distributions=rf_params,\n",
    "                                   n_iter=20,\n",
    "                                   cv=5,\n",
    "                                   verbose=True)\n",
    "\n",
    "# Entrainement du modèle\n",
    "rs_rf.fit(X_train, y_train_encoded)\n",
    "\n",
    "# Affichage des meilleurs paramètres\n",
    "rs_rf.best_params_"
   ],
   "metadata": {
    "collapsed": false,
    "ExecuteTime": {
     "end_time": "2023-09-12T13:33:21.278553Z",
     "start_time": "2023-09-12T13:30:31.564394Z"
    }
   },
   "id": "5e0c9e15f02dd349"
  },
  {
   "cell_type": "code",
   "execution_count": 60,
   "outputs": [
    {
     "name": "stdout",
     "output_type": "stream",
     "text": [
      "Précision sur l'ensemble d'entraînement : 74.67%\n",
      "Précision sur l'ensemble de validation : 64.15%\n"
     ]
    }
   ],
   "source": [
    "# Creation des meilleurs paramètres\n",
    "ideal_model_rf = RandomForestClassifier(n_estimators=910,\n",
    "                                         min_samples_split=18,\n",
    "                                         min_samples_leaf=1,\n",
    "                                         max_samples=10000,\n",
    "                                         max_features=0.5,\n",
    "                                         max_depth=None,\n",
    "                                         n_jobs=-1,\n",
    "                                         random_state=42)\n",
    "ideal_model_rf.fit(X_train, y_train_encoded)\n",
    "train_score = ideal_model_rf.score(X_train, y_train_encoded)\n",
    "valid_score = ideal_model_rf.score(X_valid, y_valid_encoded)\n",
    "\n",
    "print(\"Précision sur l'ensemble d'entraînement : {:.2f}%\".format(train_score * 100))\n",
    "print(\"Précision sur l'ensemble de validation : {:.2f}%\".format(valid_score * 100))"
   ],
   "metadata": {
    "collapsed": false,
    "ExecuteTime": {
     "end_time": "2023-09-12T13:36:03.746852Z",
     "start_time": "2023-09-12T13:35:58.475018Z"
    }
   },
   "id": "60fc1966bf0acfe0"
  },
  {
   "cell_type": "code",
   "execution_count": 54,
   "outputs": [],
   "source": [
    "validation = X_valid\n",
    "prediction = ideal_model_rf.predict(validation)"
   ],
   "metadata": {
    "collapsed": false,
    "ExecuteTime": {
     "end_time": "2023-09-12T13:33:23.856872Z",
     "start_time": "2023-09-12T13:33:23.496537Z"
    }
   },
   "id": "9e296166d088da4"
  },
  {
   "cell_type": "code",
   "execution_count": 55,
   "outputs": [
    {
     "name": "stdout",
     "output_type": "stream",
     "text": [
      "              precision    recall  f1-score   support\n",
      "\n",
      "           0       0.43      0.01      0.02       388\n",
      "           1       0.00      0.00      0.00        28\n",
      "           2       0.65      0.81      0.72      3518\n",
      "           3       0.62      0.49      0.55      2459\n",
      "\n",
      "    accuracy                           0.64      6393\n",
      "   macro avg       0.42      0.33      0.32      6393\n",
      "weighted avg       0.62      0.64      0.61      6393\n"
     ]
    },
    {
     "name": "stderr",
     "output_type": "stream",
     "text": [
      "/Users/quentin/opt/anaconda3/envs/epsi/lib/python3.7/site-packages/sklearn/metrics/_classification.py:1318: UndefinedMetricWarning: Precision and F-score are ill-defined and being set to 0.0 in labels with no predicted samples. Use `zero_division` parameter to control this behavior.\n",
      "  _warn_prf(average, modifier, msg_start, len(result))\n",
      "/Users/quentin/opt/anaconda3/envs/epsi/lib/python3.7/site-packages/sklearn/metrics/_classification.py:1318: UndefinedMetricWarning: Precision and F-score are ill-defined and being set to 0.0 in labels with no predicted samples. Use `zero_division` parameter to control this behavior.\n",
      "  _warn_prf(average, modifier, msg_start, len(result))\n",
      "/Users/quentin/opt/anaconda3/envs/epsi/lib/python3.7/site-packages/sklearn/metrics/_classification.py:1318: UndefinedMetricWarning: Precision and F-score are ill-defined and being set to 0.0 in labels with no predicted samples. Use `zero_division` parameter to control this behavior.\n",
      "  _warn_prf(average, modifier, msg_start, len(result))\n"
     ]
    }
   ],
   "source": [
    "from sklearn.metrics import classification_report\n",
    "\n",
    "print(classification_report(y_valid_encoded, prediction))"
   ],
   "metadata": {
    "collapsed": false,
    "ExecuteTime": {
     "end_time": "2023-09-12T13:33:23.888382Z",
     "start_time": "2023-09-12T13:33:23.862986Z"
    }
   },
   "id": "db83d642e10a1bcf"
  },
  {
   "cell_type": "code",
   "execution_count": 56,
   "outputs": [
    {
     "data": {
      "text/plain": "<Figure size 600x500 with 2 Axes>",
      "image/png": "[encoded data removed]"
     },
     "metadata": {},
     "output_type": "display_data"
    }
   ],
   "source": [
    "from sklearn.metrics import confusion_matrix\n",
    "import seaborn as sns\n",
    "\n",
    "# Calcul de la matrice de confusion\n",
    "cm = confusion_matrix(y_valid_encoded, prediction)\n",
    "\n",
    "# heatmap\n",
    "plt.figure(figsize=(6, 5))\n",
    "sns.heatmap(cm, annot=True, fmt='d', cmap='Blues')\n",
    "plt.xlabel('Predicted')\n",
    "plt.ylabel('Actual')\n",
    "plt.show()"
   ],
   "metadata": {
    "collapsed": false,
    "ExecuteTime": {
     "end_time": "2023-09-12T13:33:24.202427Z",
     "start_time": "2023-09-12T13:33:23.890370Z"
    }
   },
   "id": "eef4586d41cf551c"
  },
  {
   "cell_type": "markdown",
   "source": [
    "## Enregristrement du modèle"
   ],
   "metadata": {
    "collapsed": false
   },
   "id": "c2fa43997ade89fb"
  },
  {
   "cell_type": "code",
   "execution_count": 57,
   "outputs": [
    {
     "name": "stdout",
     "output_type": "stream",
     "text": [
      "Stored 'ideal_model_rf' (RandomForestClassifier)\n"
     ]
    }
   ],
   "source": [
    "%store ideal_model_rf"
   ],
   "metadata": {
    "collapsed": false,
    "ExecuteTime": {
     "end_time": "2023-09-12T13:33:24.986291Z",
     "start_time": "2023-09-12T13:33:24.206236Z"
    }
   },
   "id": "b63688b546738a5"
  }
 ],
 "metadata": {
  "kernelspec": {
   "display_name": "Python 3",
   "language": "python",
   "name": "python3"
  },
  "language_info": {
   "codemirror_mode": {
    "name": "ipython",
    "version": 2
   },
   "file_extension": ".py",
   "mimetype": "text/x-python",
   "name": "python",
   "nbconvert_exporter": "python",
   "pygments_lexer": "ipython2",
   "version": "2.7.6"
  }
 },
 "nbformat": 4,
 "nbformat_minor": 5
}
