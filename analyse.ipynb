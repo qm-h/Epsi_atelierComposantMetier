{
 "cells": [
  {
   "cell_type": "code",
   "execution_count": 203,
   "outputs": [],
   "source": [
    "# récupération des données stocker : X et Y (Stored X)\n",
    "X = None\n",
    "Y = None\n",
    "%store -r X\n",
    "%store -r Y"
   ],
   "metadata": {
    "collapsed": false,
    "ExecuteTime": {
     "end_time": "2023-09-12T10:03:56.445896Z",
     "start_time": "2023-09-12T10:03:56.430850Z"
    }
   },
   "id": "7568f96473d06e2a"
  },
  {
   "cell_type": "markdown",
   "source": [
    "## Analyse des données"
   ],
   "metadata": {
    "collapsed": false
   },
   "id": "a199f1772df71879"
  },
  {
   "cell_type": "code",
   "execution_count": 204,
   "outputs": [],
   "source": [
    "# Importation des librairies\n",
    "import matplotlib.pyplot as plt\n",
    "import numpy as np\n",
    "import pandas as pd"
   ],
   "metadata": {
    "collapsed": false,
    "ExecuteTime": {
     "end_time": "2023-09-12T10:03:58.239423Z",
     "start_time": "2023-09-12T10:03:58.224192Z"
    }
   },
   "id": "1a2fa9345250abc"
  },
  {
   "cell_type": "code",
   "execution_count": 205,
   "outputs": [
    {
     "data": {
      "text/plain": "       Date_inspection  APP_Libelle_activite_etablissement    latitude  \\\n0         1.682381e+09                                   0  49985274.0   \n1         1.677110e+09                                   0   4615861.0   \n2         1.664842e+09                                   1  48881317.0   \n4         1.678234e+09                                   1  48844091.0   \n5         1.682381e+09                                   1  48072687.0   \n...                ...                                 ...         ...   \n32715     1.680134e+09                                  29  21206368.0   \n32716     1.669248e+09                                   0  48873997.0   \n32717     1.681690e+09                                  21  44078462.0   \n32718     1.686874e+09                                   0  45738402.0   \n32719     1.680134e+09                                  22  21206368.0   \n\n        longitude  \n0       1561386.0  \n1       6677963.0  \n2        223746.0  \n4       2219818.0  \n5       4185142.0  \n...           ...  \n32715  55337063.0  \n32716   2341843.0  \n32717   5999322.0  \n32718   4837636.0  \n32719  55337063.0  \n\n[31961 rows x 4 columns]",
      "text/html": "<div>\n<style scoped>\n    .dataframe tbody tr th:only-of-type {\n        vertical-align: middle;\n    }\n\n    .dataframe tbody tr th {\n        vertical-align: top;\n    }\n\n    .dataframe thead th {\n        text-align: right;\n    }\n</style>\n<table border=\"1\" class=\"dataframe\">\n  <thead>\n    <tr style=\"text-align: right;\">\n      <th></th>\n      <th>Date_inspection</th>\n      <th>APP_Libelle_activite_etablissement</th>\n      <th>latitude</th>\n      <th>longitude</th>\n    </tr>\n  </thead>\n  <tbody>\n    <tr>\n      <th>0</th>\n      <td>1.682381e+09</td>\n      <td>0</td>\n      <td>49985274.0</td>\n      <td>1561386.0</td>\n    </tr>\n    <tr>\n      <th>1</th>\n      <td>1.677110e+09</td>\n      <td>0</td>\n      <td>4615861.0</td>\n      <td>6677963.0</td>\n    </tr>\n    <tr>\n      <th>2</th>\n      <td>1.664842e+09</td>\n      <td>1</td>\n      <td>48881317.0</td>\n      <td>223746.0</td>\n    </tr>\n    <tr>\n      <th>4</th>\n      <td>1.678234e+09</td>\n      <td>1</td>\n      <td>48844091.0</td>\n      <td>2219818.0</td>\n    </tr>\n    <tr>\n      <th>5</th>\n      <td>1.682381e+09</td>\n      <td>1</td>\n      <td>48072687.0</td>\n      <td>4185142.0</td>\n    </tr>\n    <tr>\n      <th>...</th>\n      <td>...</td>\n      <td>...</td>\n      <td>...</td>\n      <td>...</td>\n    </tr>\n    <tr>\n      <th>32715</th>\n      <td>1.680134e+09</td>\n      <td>29</td>\n      <td>21206368.0</td>\n      <td>55337063.0</td>\n    </tr>\n    <tr>\n      <th>32716</th>\n      <td>1.669248e+09</td>\n      <td>0</td>\n      <td>48873997.0</td>\n      <td>2341843.0</td>\n    </tr>\n    <tr>\n      <th>32717</th>\n      <td>1.681690e+09</td>\n      <td>21</td>\n      <td>44078462.0</td>\n      <td>5999322.0</td>\n    </tr>\n    <tr>\n      <th>32718</th>\n      <td>1.686874e+09</td>\n      <td>0</td>\n      <td>45738402.0</td>\n      <td>4837636.0</td>\n    </tr>\n    <tr>\n      <th>32719</th>\n      <td>1.680134e+09</td>\n      <td>22</td>\n      <td>21206368.0</td>\n      <td>55337063.0</td>\n    </tr>\n  </tbody>\n</table>\n<p>31961 rows × 4 columns</p>\n</div>"
     },
     "execution_count": 205,
     "metadata": {},
     "output_type": "execute_result"
    }
   ],
   "source": [
    "X"
   ],
   "metadata": {
    "collapsed": false,
    "ExecuteTime": {
     "end_time": "2023-09-12T10:03:58.988663Z",
     "start_time": "2023-09-12T10:03:58.972171Z"
    }
   },
   "id": "bca163b85976b41a"
  },
  {
   "cell_type": "code",
   "execution_count": 206,
   "outputs": [
    {
     "data": {
      "text/plain": "0             Satisfaisant\n1             Satisfaisant\n2             Satisfaisant\n4              A améliorer\n5        Très satisfaisant\n               ...        \n32715         Satisfaisant\n32716         Satisfaisant\n32717         Satisfaisant\n32718         Satisfaisant\n32719         Satisfaisant\nName: Synthese_eval_sanit, Length: 31961, dtype: object"
     },
     "execution_count": 206,
     "metadata": {},
     "output_type": "execute_result"
    }
   ],
   "source": [
    "Y"
   ],
   "metadata": {
    "collapsed": false,
    "ExecuteTime": {
     "end_time": "2023-09-12T10:03:59.392749Z",
     "start_time": "2023-09-12T10:03:59.344925Z"
    }
   },
   "id": "ce42bd43488e3f23"
  },
  {
   "cell_type": "markdown",
   "source": [
    "## Séparation des données en données d'entrainement et de test"
   ],
   "metadata": {
    "collapsed": false
   },
   "id": "cfd43b210c0609e1"
  },
  {
   "cell_type": "code",
   "execution_count": 207,
   "outputs": [],
   "source": [
    "# Importation de la librairie\n",
    "from sklearn.model_selection import train_test_split"
   ],
   "metadata": {
    "collapsed": false,
    "ExecuteTime": {
     "end_time": "2023-09-12T10:04:00.607310Z",
     "start_time": "2023-09-12T10:04:00.587873Z"
    }
   },
   "id": "85e339c53de56944"
  },
  {
   "cell_type": "markdown",
   "source": [
    "## Entrainement sur plusieurs modèle de classification"
   ],
   "metadata": {
    "collapsed": false
   },
   "id": "f7baa394fd04fed9"
  },
  {
   "cell_type": "code",
   "execution_count": 208,
   "outputs": [],
   "source": [
    "# Importation des librairies de classification\n",
    "from sklearn.ensemble import RandomForestClassifier\n",
    "from sklearn.neighbors import KNeighborsClassifier\n",
    "from sklearn.naive_bayes import GaussianNB\n",
    "from sklearn.neural_network import MLPClassifier\n",
    "from xgboost import XGBClassifier\n",
    "from sklearn.linear_model import SGDClassifier\n",
    "from sklearn.ensemble import GradientBoostingClassifier\n",
    "from sklearn.ensemble import AdaBoostClassifier\n",
    "from sklearn.preprocessing import LabelEncoder"
   ],
   "metadata": {
    "collapsed": false,
    "ExecuteTime": {
     "end_time": "2023-09-12T10:04:10.632399Z",
     "start_time": "2023-09-12T10:04:10.613800Z"
    }
   },
   "id": "5b30425f25621686"
  },
  {
   "cell_type": "code",
   "execution_count": 209,
   "outputs": [
    {
     "name": "stdout",
     "output_type": "stream",
     "text": [
      "KNN: 0.558579696543094\n",
      "Random Forest: 0.6177068668856562\n",
      "Gradient Boosting: 0.6139527608321602\n",
      "AdaBoost: 0.582981385890818\n",
      "Gaussian NB: 0.5360550602221179\n",
      "MLP Classifier: 0.5546691694040357\n",
      "SGD: 0.5546691694040357\n",
      "XGBoost: 0.6346003441263882\n"
     ]
    }
   ],
   "source": [
    "models = {\n",
    "    \"KNN\": KNeighborsClassifier(n_jobs=-1),\n",
    "    \"Random Forest\": RandomForestClassifier(n_jobs=-1),\n",
    "    \"Gradient Boosting\": GradientBoostingClassifier(),\n",
    "    \"AdaBoost\": AdaBoostClassifier(),\n",
    "    \"Gaussian NB\": GaussianNB(),\n",
    "    \"MLP Classifier\": MLPClassifier(max_iter=1000),\n",
    "    \"SGD\": SGDClassifier(),\n",
    "    \"XGBoost\": XGBClassifier(use_label_encoder=False, eval_metric='mlogloss')\n",
    "}\n",
    "\n",
    "def fit_and_score(models, X_train, X_test, y_train, y_test):\n",
    "    # Random seed for reproducible results\n",
    "    np.random.seed(42)\n",
    "    model_scores = {}\n",
    "    for name, model in models.items():\n",
    "        model.fit(X_train, y_train)\n",
    "        model_scores[name] = model.score(X_test, y_test)\n",
    "    return model_scores\n",
    "\n",
    "# Random seed for reproducibility\n",
    "np.random.seed(42)\n",
    "X_train, X_valid, y_train, y_valid = train_test_split(X, Y, test_size=0.2)\n",
    "\n",
    "label_encoder = LabelEncoder()\n",
    "y_train_encoded = label_encoder.fit_transform(y_train.values.ravel())\n",
    "y_valid_encoded = label_encoder.transform(y_valid.values.ravel())\n",
    "\n",
    "model_scores = fit_and_score(models, X_train, X_valid, y_train_encoded, y_valid_encoded)\n",
    "\n",
    "for model, score in model_scores.items():\n",
    "    print(f\"{model}: {score}\")"
   ],
   "metadata": {
    "collapsed": false,
    "ExecuteTime": {
     "end_time": "2023-09-12T10:04:48.578177Z",
     "start_time": "2023-09-12T10:04:15.953310Z"
    }
   },
   "id": "3cc2ece40bb9c36f"
  },
  {
   "cell_type": "markdown",
   "source": [
    "## Affichage des résultats"
   ],
   "metadata": {
    "collapsed": false
   },
   "id": "4b268cbfe1aad7c8"
  },
  {
   "cell_type": "code",
   "execution_count": 210,
   "outputs": [
    {
     "data": {
      "text/plain": "<Figure size 640x480 with 1 Axes>",
      "image/png": "[encoded data removed]"
     },
     "metadata": {},
     "output_type": "display_data"
    }
   ],
   "source": [
    "# Affichage des résultats\n",
    "model_compare = pd.DataFrame(model_scores, index=['accuracy'])\n",
    "model_compare.T.plot.barh(color='red');"
   ],
   "metadata": {
    "collapsed": false,
    "ExecuteTime": {
     "end_time": "2023-09-12T10:05:13.197432Z",
     "start_time": "2023-09-12T10:05:12.789414Z"
    }
   },
   "id": "796ff69228908804"
  },
  {
   "cell_type": "markdown",
   "source": [
    "## Optimisation des modèles"
   ],
   "metadata": {
    "collapsed": false
   },
   "id": "ee6c85694fadb664"
  },
  {
   "cell_type": "code",
   "execution_count": 211,
   "outputs": [],
   "source": [
    "# Importation des librairies\n",
    "from sklearn.model_selection import GridSearchCV, KFold"
   ],
   "metadata": {
    "collapsed": false,
    "ExecuteTime": {
     "end_time": "2023-09-12T10:05:41.173113Z",
     "start_time": "2023-09-12T10:05:41.155221Z"
    }
   },
   "id": "d76df23488acf998"
  },
  {
   "cell_type": "code",
   "execution_count": null,
   "outputs": [],
   "source": [
    "# Optimisation du model XGBoost\n",
    "params = {\n",
    "    'n_estimators': [100, 200, 500],\n",
    "    'learning_rate': [0.01,0.05,0.1],\n",
    "    'booster': ['gbtree', 'gblinear'],\n",
    "    'gamma': [0, 0.5, 1],\n",
    "    'reg_alpha': [0, 0.5, 1],\n",
    "    'reg_lambda': [0.5, 1, 5],\n",
    "    'base_score': [0.2, 0.5, 1]\n",
    "}\n",
    "\n",
    "gs2 = GridSearchCV(XGBClassifier(n_jobs=-1), params, n_jobs=-1, cv=KFold(n_splits=3), scoring='roc_auc')\n",
    "gs2.fit(X_train, y_train)\n",
    "\n",
    "print('Best score:', gs2.best_score_)\n",
    "print('Best score:', gs2.best_params_)\n"
   ],
   "metadata": {
    "collapsed": false,
    "is_executing": true
   },
   "id": "5e0c9e15f02dd349"
  },
  {
   "cell_type": "code",
   "execution_count": null,
   "outputs": [],
   "source": [
    "# Optimisation des modèles\n",
    "gs2.best_params_"
   ],
   "metadata": {
    "collapsed": false,
    "ExecuteTime": {
     "end_time": "2023-09-12T09:45:17.779125Z",
     "start_time": "2023-09-12T09:45:17.537156Z"
    }
   },
   "id": "fca2256547e7d99e"
  },
  {
   "cell_type": "code",
   "execution_count": null,
   "outputs": [],
   "source": [
    "# Creation des meilleurs paramètres\n",
    "ideal_model_xgb = XGBClassifier(n_estimators=510,\n",
    "                                        min_samples_split=2,\n",
    "                                        min_samples_leaf=3,\n",
    "                                        max_depth=None,\n",
    "                                        max_features=0.5,\n",
    "                                        max_samples=10000,\n",
    "                                        n_jobs=-1)\n",
    "ideal_model_xgb.fit(X_train, y_train)\n",
    "train_score = ideal_model_xgb.score(X_train, y_train)\n",
    "valid_score = ideal_model_xgb.score(X_valid, y_valid)\n",
    "\n",
    "print(\"Précision sur l'ensemble d'entraînement : {:.2f}%\".format(train_score * 100))\n",
    "print(\"Précision sur l'ensemble de validation : {:.2f}%\".format(valid_score * 100))"
   ],
   "metadata": {
    "collapsed": false
   },
   "id": "60fc1966bf0acfe0"
  },
  {
   "cell_type": "code",
   "execution_count": null,
   "outputs": [],
   "source": [
    "ideal_model_xgb.fit(X_train, y_train)"
   ],
   "metadata": {
    "collapsed": false
   },
   "id": "9e23eb444d3c8326"
  },
  {
   "cell_type": "code",
   "execution_count": null,
   "outputs": [],
   "source": [
    "from sklearn.metrics import RocCurveDisplay\n",
    "\n",
    "validation = X_valid\n",
    "prediction = ideal_model_xgb.predict(validation)"
   ],
   "metadata": {
    "collapsed": false,
    "ExecuteTime": {
     "start_time": "2023-09-12T09:45:17.591259Z"
    }
   },
   "id": "9e296166d088da4"
  },
  {
   "cell_type": "code",
   "execution_count": null,
   "outputs": [],
   "source": [
    "RocCurveDisplay.from_estimator(ideal_model_xgb, X_valid, y_valid)"
   ],
   "metadata": {
    "collapsed": false,
    "ExecuteTime": {
     "start_time": "2023-09-12T09:45:17.611565Z"
    }
   },
   "id": "25a8c85a8e26794e"
  },
  {
   "cell_type": "code",
   "execution_count": null,
   "outputs": [],
   "source": [
    "RocCurveDisplay.from_estimator(ideal_model_xgb, X_train, y_train)"
   ],
   "metadata": {
    "collapsed": false,
    "ExecuteTime": {
     "start_time": "2023-09-12T09:45:17.626302Z"
    }
   },
   "id": "1dcfa8a135d3f826"
  },
  {
   "cell_type": "code",
   "execution_count": null,
   "outputs": [],
   "source": [
    "from sklearn.metrics import classification_report\n",
    "\n",
    "print(classification_report(y_valid, prediction))"
   ],
   "metadata": {
    "collapsed": false,
    "ExecuteTime": {
     "start_time": "2023-09-12T09:45:17.642930Z"
    }
   },
   "id": "db83d642e10a1bcf"
  },
  {
   "cell_type": "code",
   "execution_count": null,
   "outputs": [],
   "source": [
    "from sklearn.metrics import confusion_matrix\n",
    "import seaborn as sns\n",
    "\n",
    "# Calcul de la matrice de confusion\n",
    "cm = confusion_matrix(y_valid, prediction)\n",
    "\n",
    "# heatmap\n",
    "plt.figure(figsize=(6, 5))\n",
    "sns.heatmap(cm, annot=True, fmt='d', cmap='Blues')\n",
    "plt.xlabel('Predicted')\n",
    "plt.ylabel('Actual')\n",
    "plt.show()"
   ],
   "metadata": {
    "collapsed": false,
    "ExecuteTime": {
     "start_time": "2023-09-12T09:45:17.653024Z"
    }
   },
   "id": "eef4586d41cf551c"
  }
 ],
 "metadata": {
  "kernelspec": {
   "display_name": "Python 3",
   "language": "python",
   "name": "python3"
  },
  "language_info": {
   "codemirror_mode": {
    "name": "ipython",
    "version": 2
   },
   "file_extension": ".py",
   "mimetype": "text/x-python",
   "name": "python",
   "nbconvert_exporter": "python",
   "pygments_lexer": "ipython2",
   "version": "2.7.6"
  }
 },
 "nbformat": 4,
 "nbformat_minor": 5
}
