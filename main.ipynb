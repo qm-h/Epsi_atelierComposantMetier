{
 "cells": [
  {
   "cell_type": "code",
   "execution_count": 1,
   "outputs": [],
   "source": [
    "import pandas as pd"
   ],
   "metadata": {
    "collapsed": false,
    "ExecuteTime": {
     "end_time": "2023-09-12T12:51:04.920437Z",
     "start_time": "2023-09-12T12:51:04.914228Z"
    }
   },
   "id": "a01dda3ba0892518"
  },
  {
   "cell_type": "code",
   "execution_count": 2,
   "outputs": [
    {
     "name": "stdout",
     "output_type": "stream",
     "text": [
      "Stored 'data_frame' (DataFrame)\n"
     ]
    }
   ],
   "source": [
    "data_frame = pd.read_csv('export_alimconfiance@dgal.csv', sep=';')\n",
    "%store data_frame"
   ],
   "metadata": {
    "collapsed": false,
    "ExecuteTime": {
     "end_time": "2023-09-12T12:51:05.255193Z",
     "start_time": "2023-09-12T12:51:04.923519Z"
    }
   },
   "id": "3d277ecdef56b776"
  },
  {
   "cell_type": "code",
   "execution_count": 3,
   "outputs": [
    {
     "data": {
      "text/plain": "                      APP_Libelle_etablissement           SIRET  \\\n0                    SARL AUBERGE DU DOUBLE SIX  30121048000010   \n1                    MONSIEUR PHILIPPE MARIOTTE  31084873400029   \n2                  NATURALIA (NATURALIA FRANCE)  30247464801894   \n3            SUPER-U (COLOMBELLES DISTRIBUTION)  30122377200031   \n4      FRANPRIX (SOC DISTRIBUTION SODISCO SARL)  33427109500013   \n...                                         ...             ...   \n32715                          EARL TOUT LE BON  90449950600015   \n32716                              LA POKETERIE  84475120600013   \n32717                         SAS GUY COQUILLAT  38853882900010   \n32718                           LIVESTATION DIY  75169891100011   \n32719                          EARL TOUT LE BON  90449950600015   \n\n                     Adresse_2_UA Code_postal             Libelle_commune  \\\n0           24 PL GENERAL LECLERC       80220                    GAMACHES   \n1               286 RUE DU CENTRE       74260                    LES GETS   \n2      36 RUE EUGENE EICHENBERGER       92800                     PUTEAUX   \n3                          RD 403       14460                 COLOMBELLES   \n4            4, PLACE DU MOUSTIER       92210                 SAINT CLOUD   \n...                           ...         ...                         ...   \n32715                    LE PLATE       97424                   Saint-Leu   \n32716           3 RUE DE PROVENCE       75009    Paris 9e  Arrondissement   \n32717     Z A Les Blaches Gombert       04160  Château-Arnoux-Saint-Auban   \n32718             LIVESTATION DIY       69007     Lyon 7e  Arrondissement   \n32719                    LE PLATE       97424                   Saint-Leu   \n\n      Numero_inspection            Date_inspection  \\\n0              16793484  2023-04-25T02:00:00+02:00   \n1              16740394  2023-02-23T01:00:00+01:00   \n2              16611978  2022-10-04T02:00:00+02:00   \n3              16787460  2023-04-20T02:00:00+02:00   \n4              16748988  2023-03-08T01:00:00+01:00   \n...                 ...                        ...   \n32715       23-012756-1  2023-03-30T02:00:00+02:00   \n32716       22-094901-1  2022-11-24T01:00:00+01:00   \n32717       22-092105-1  2023-04-17T02:00:00+02:00   \n32718       23-047240-1  2023-06-16T02:00:00+02:00   \n32719       23-028361-1  2023-03-30T02:00:00+02:00   \n\n                      APP_Libelle_activite_etablissement Synthese_eval_sanit  \\\n0                                             Restaurant        Satisfaisant   \n1                                             Restaurant        Satisfaisant   \n2                                  Alimentation générale        Satisfaisant   \n3                            Rayon boucherie-charcuterie   Très satisfaisant   \n4                                  Alimentation générale         A améliorer   \n...                                                  ...                 ...   \n32715  Chaîne d'abattage de volaille/lagomorphe/petit...        Satisfaisant   \n32716                                         Restaurant        Satisfaisant   \n32717                  Transformation de produits carnés        Satisfaisant   \n32718                                         Restaurant        Satisfaisant   \n32719                                 Producteur fermier        Satisfaisant   \n\n       Agrement                 geores                       filtre  \\\n0           NaN    49.985274, 1.561386                   Restaurant   \n1           NaN     46.15861, 6.677963                   Restaurant   \n2           NaN     48.881317, 2.23746        Alimentation générale   \n3           NaN                    NaN  Rayon boucherie-charcuterie   \n4           NaN    48.844091, 2.219818        Alimentation générale   \n...         ...                    ...                          ...   \n32715       NaN  -21.206368, 55.337063                          NaN   \n32716       NaN    48.873997, 2.341843                   Restaurant   \n32717  04049001    44.078462, 5.999322                          NaN   \n32718       NaN    45.738402, 4.837636                   Restaurant   \n32719       NaN  -21.206368, 55.337063           Producteur fermier   \n\n                ods_type_activite  \n0                          Autres  \n1                          Autres  \n2                          Autres  \n3                          Autres  \n4                          Autres  \n...                           ...  \n32715                   Abattoirs  \n32716                      Autres  \n32717  Viandes et produits carnés  \n32718                      Autres  \n32719                      Autres  \n\n[32720 rows x 13 columns]",
      "text/html": "<div>\n<style scoped>\n    .dataframe tbody tr th:only-of-type {\n        vertical-align: middle;\n    }\n\n    .dataframe tbody tr th {\n        vertical-align: top;\n    }\n\n    .dataframe thead th {\n        text-align: right;\n    }\n</style>\n<table border=\"1\" class=\"dataframe\">\n  <thead>\n    <tr style=\"text-align: right;\">\n      <th></th>\n      <th>APP_Libelle_etablissement</th>\n      <th>SIRET</th>\n      <th>Adresse_2_UA</th>\n      <th>Code_postal</th>\n      <th>Libelle_commune</th>\n      <th>Numero_inspection</th>\n      <th>Date_inspection</th>\n      <th>APP_Libelle_activite_etablissement</th>\n      <th>Synthese_eval_sanit</th>\n      <th>Agrement</th>\n      <th>geores</th>\n      <th>filtre</th>\n      <th>ods_type_activite</th>\n    </tr>\n  </thead>\n  <tbody>\n    <tr>\n      <th>0</th>\n      <td>SARL AUBERGE DU DOUBLE SIX</td>\n      <td>30121048000010</td>\n      <td>24 PL GENERAL LECLERC</td>\n      <td>80220</td>\n      <td>GAMACHES</td>\n      <td>16793484</td>\n      <td>2023-04-25T02:00:00+02:00</td>\n      <td>Restaurant</td>\n      <td>Satisfaisant</td>\n      <td>NaN</td>\n      <td>49.985274, 1.561386</td>\n      <td>Restaurant</td>\n      <td>Autres</td>\n    </tr>\n    <tr>\n      <th>1</th>\n      <td>MONSIEUR PHILIPPE MARIOTTE</td>\n      <td>31084873400029</td>\n      <td>286 RUE DU CENTRE</td>\n      <td>74260</td>\n      <td>LES GETS</td>\n      <td>16740394</td>\n      <td>2023-02-23T01:00:00+01:00</td>\n      <td>Restaurant</td>\n      <td>Satisfaisant</td>\n      <td>NaN</td>\n      <td>46.15861, 6.677963</td>\n      <td>Restaurant</td>\n      <td>Autres</td>\n    </tr>\n    <tr>\n      <th>2</th>\n      <td>NATURALIA (NATURALIA FRANCE)</td>\n      <td>30247464801894</td>\n      <td>36 RUE EUGENE EICHENBERGER</td>\n      <td>92800</td>\n      <td>PUTEAUX</td>\n      <td>16611978</td>\n      <td>2022-10-04T02:00:00+02:00</td>\n      <td>Alimentation générale</td>\n      <td>Satisfaisant</td>\n      <td>NaN</td>\n      <td>48.881317, 2.23746</td>\n      <td>Alimentation générale</td>\n      <td>Autres</td>\n    </tr>\n    <tr>\n      <th>3</th>\n      <td>SUPER-U (COLOMBELLES DISTRIBUTION)</td>\n      <td>30122377200031</td>\n      <td>RD 403</td>\n      <td>14460</td>\n      <td>COLOMBELLES</td>\n      <td>16787460</td>\n      <td>2023-04-20T02:00:00+02:00</td>\n      <td>Rayon boucherie-charcuterie</td>\n      <td>Très satisfaisant</td>\n      <td>NaN</td>\n      <td>NaN</td>\n      <td>Rayon boucherie-charcuterie</td>\n      <td>Autres</td>\n    </tr>\n    <tr>\n      <th>4</th>\n      <td>FRANPRIX (SOC DISTRIBUTION SODISCO SARL)</td>\n      <td>33427109500013</td>\n      <td>4, PLACE DU MOUSTIER</td>\n      <td>92210</td>\n      <td>SAINT CLOUD</td>\n      <td>16748988</td>\n      <td>2023-03-08T01:00:00+01:00</td>\n      <td>Alimentation générale</td>\n      <td>A améliorer</td>\n      <td>NaN</td>\n      <td>48.844091, 2.219818</td>\n      <td>Alimentation générale</td>\n      <td>Autres</td>\n    </tr>\n    <tr>\n      <th>...</th>\n      <td>...</td>\n      <td>...</td>\n      <td>...</td>\n      <td>...</td>\n      <td>...</td>\n      <td>...</td>\n      <td>...</td>\n      <td>...</td>\n      <td>...</td>\n      <td>...</td>\n      <td>...</td>\n      <td>...</td>\n      <td>...</td>\n    </tr>\n    <tr>\n      <th>32715</th>\n      <td>EARL TOUT LE BON</td>\n      <td>90449950600015</td>\n      <td>LE PLATE</td>\n      <td>97424</td>\n      <td>Saint-Leu</td>\n      <td>23-012756-1</td>\n      <td>2023-03-30T02:00:00+02:00</td>\n      <td>Chaîne d'abattage de volaille/lagomorphe/petit...</td>\n      <td>Satisfaisant</td>\n      <td>NaN</td>\n      <td>-21.206368, 55.337063</td>\n      <td>NaN</td>\n      <td>Abattoirs</td>\n    </tr>\n    <tr>\n      <th>32716</th>\n      <td>LA POKETERIE</td>\n      <td>84475120600013</td>\n      <td>3 RUE DE PROVENCE</td>\n      <td>75009</td>\n      <td>Paris 9e  Arrondissement</td>\n      <td>22-094901-1</td>\n      <td>2022-11-24T01:00:00+01:00</td>\n      <td>Restaurant</td>\n      <td>Satisfaisant</td>\n      <td>NaN</td>\n      <td>48.873997, 2.341843</td>\n      <td>Restaurant</td>\n      <td>Autres</td>\n    </tr>\n    <tr>\n      <th>32717</th>\n      <td>SAS GUY COQUILLAT</td>\n      <td>38853882900010</td>\n      <td>Z A Les Blaches Gombert</td>\n      <td>04160</td>\n      <td>Château-Arnoux-Saint-Auban</td>\n      <td>22-092105-1</td>\n      <td>2023-04-17T02:00:00+02:00</td>\n      <td>Transformation de produits carnés</td>\n      <td>Satisfaisant</td>\n      <td>04049001</td>\n      <td>44.078462, 5.999322</td>\n      <td>NaN</td>\n      <td>Viandes et produits carnés</td>\n    </tr>\n    <tr>\n      <th>32718</th>\n      <td>LIVESTATION DIY</td>\n      <td>75169891100011</td>\n      <td>LIVESTATION DIY</td>\n      <td>69007</td>\n      <td>Lyon 7e  Arrondissement</td>\n      <td>23-047240-1</td>\n      <td>2023-06-16T02:00:00+02:00</td>\n      <td>Restaurant</td>\n      <td>Satisfaisant</td>\n      <td>NaN</td>\n      <td>45.738402, 4.837636</td>\n      <td>Restaurant</td>\n      <td>Autres</td>\n    </tr>\n    <tr>\n      <th>32719</th>\n      <td>EARL TOUT LE BON</td>\n      <td>90449950600015</td>\n      <td>LE PLATE</td>\n      <td>97424</td>\n      <td>Saint-Leu</td>\n      <td>23-028361-1</td>\n      <td>2023-03-30T02:00:00+02:00</td>\n      <td>Producteur fermier</td>\n      <td>Satisfaisant</td>\n      <td>NaN</td>\n      <td>-21.206368, 55.337063</td>\n      <td>Producteur fermier</td>\n      <td>Autres</td>\n    </tr>\n  </tbody>\n</table>\n<p>32720 rows × 13 columns</p>\n</div>"
     },
     "execution_count": 3,
     "metadata": {},
     "output_type": "execute_result"
    }
   ],
   "source": [
    "data_frame"
   ],
   "metadata": {
    "collapsed": false,
    "ExecuteTime": {
     "end_time": "2023-09-12T12:51:05.294115Z",
     "start_time": "2023-09-12T12:51:05.265021Z"
    }
   },
   "id": "75cb8c32680cd9d3"
  }
 ],
 "metadata": {
  "kernelspec": {
   "display_name": "Python 3",
   "language": "python",
   "name": "python3"
  },
  "language_info": {
   "codemirror_mode": {
    "name": "ipython",
    "version": 2
   },
   "file_extension": ".py",
   "mimetype": "text/x-python",
   "name": "python",
   "nbconvert_exporter": "python",
   "pygments_lexer": "ipython2",
   "version": "2.7.6"
  }
 },
 "nbformat": 4,
 "nbformat_minor": 5
}
