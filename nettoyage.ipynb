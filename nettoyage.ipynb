{
 "cells": [
  {
   "cell_type": "markdown",
   "source": [
    "## Nettoyage des données"
   ],
   "metadata": {
    "collapsed": false
   },
   "id": "c4b0732f283e7da0"
  },
  {
   "cell_type": "code",
   "execution_count": 121,
   "outputs": [],
   "source": [
    "import pandas as pd\n",
    "import re"
   ],
   "metadata": {
    "collapsed": false,
    "ExecuteTime": {
     "end_time": "2023-09-11T14:25:02.722254Z",
     "start_time": "2023-09-11T14:25:02.635071Z"
    }
   },
   "id": "7a55abf660b22869"
  },
  {
   "cell_type": "code",
   "execution_count": 122,
   "outputs": [],
   "source": [
    "data_frame = pd.read_csv('export_alimconfiance@dgal.csv', sep=';')"
   ],
   "metadata": {
    "collapsed": false,
    "ExecuteTime": {
     "end_time": "2023-09-11T14:25:02.992149Z",
     "start_time": "2023-09-11T14:25:02.640222Z"
    }
   },
   "id": "118dd2789144d85e"
  },
  {
   "cell_type": "code",
   "execution_count": 123,
   "outputs": [
    {
     "data": {
      "text/plain": "                      APP_Libelle_etablissement           SIRET  \\\n0                    SARL AUBERGE DU DOUBLE SIX  30121048000010   \n1                    MONSIEUR PHILIPPE MARIOTTE  31084873400029   \n2                  NATURALIA (NATURALIA FRANCE)  30247464801894   \n3            SUPER-U (COLOMBELLES DISTRIBUTION)  30122377200031   \n4      FRANPRIX (SOC DISTRIBUTION SODISCO SARL)  33427109500013   \n...                                         ...             ...   \n32715                          EARL TOUT LE BON  90449950600015   \n32716                              LA POKETERIE  84475120600013   \n32717                         SAS GUY COQUILLAT  38853882900010   \n32718                           LIVESTATION DIY  75169891100011   \n32719                          EARL TOUT LE BON  90449950600015   \n\n                     Adresse_2_UA Code_postal             Libelle_commune  \\\n0           24 PL GENERAL LECLERC       80220                    GAMACHES   \n1               286 RUE DU CENTRE       74260                    LES GETS   \n2      36 RUE EUGENE EICHENBERGER       92800                     PUTEAUX   \n3                          RD 403       14460                 COLOMBELLES   \n4            4, PLACE DU MOUSTIER       92210                 SAINT CLOUD   \n...                           ...         ...                         ...   \n32715                    LE PLATE       97424                   Saint-Leu   \n32716           3 RUE DE PROVENCE       75009    Paris 9e  Arrondissement   \n32717     Z A Les Blaches Gombert       04160  Château-Arnoux-Saint-Auban   \n32718             LIVESTATION DIY       69007     Lyon 7e  Arrondissement   \n32719                    LE PLATE       97424                   Saint-Leu   \n\n      Numero_inspection            Date_inspection  \\\n0              16793484  2023-04-25T02:00:00+02:00   \n1              16740394  2023-02-23T01:00:00+01:00   \n2              16611978  2022-10-04T02:00:00+02:00   \n3              16787460  2023-04-20T02:00:00+02:00   \n4              16748988  2023-03-08T01:00:00+01:00   \n...                 ...                        ...   \n32715       23-012756-1  2023-03-30T02:00:00+02:00   \n32716       22-094901-1  2022-11-24T01:00:00+01:00   \n32717       22-092105-1  2023-04-17T02:00:00+02:00   \n32718       23-047240-1  2023-06-16T02:00:00+02:00   \n32719       23-028361-1  2023-03-30T02:00:00+02:00   \n\n                      APP_Libelle_activite_etablissement Synthese_eval_sanit  \\\n0                                             Restaurant        Satisfaisant   \n1                                             Restaurant        Satisfaisant   \n2                                  Alimentation générale        Satisfaisant   \n3                            Rayon boucherie-charcuterie   Très satisfaisant   \n4                                  Alimentation générale         A améliorer   \n...                                                  ...                 ...   \n32715  Chaîne d'abattage de volaille/lagomorphe/petit...        Satisfaisant   \n32716                                         Restaurant        Satisfaisant   \n32717                  Transformation de produits carnés        Satisfaisant   \n32718                                         Restaurant        Satisfaisant   \n32719                                 Producteur fermier        Satisfaisant   \n\n       Agrement                 geores                       filtre  \\\n0           NaN    49.985274, 1.561386                   Restaurant   \n1           NaN     46.15861, 6.677963                   Restaurant   \n2           NaN     48.881317, 2.23746        Alimentation générale   \n3           NaN                    NaN  Rayon boucherie-charcuterie   \n4           NaN    48.844091, 2.219818        Alimentation générale   \n...         ...                    ...                          ...   \n32715       NaN  -21.206368, 55.337063                          NaN   \n32716       NaN    48.873997, 2.341843                   Restaurant   \n32717  04049001    44.078462, 5.999322                          NaN   \n32718       NaN    45.738402, 4.837636                   Restaurant   \n32719       NaN  -21.206368, 55.337063           Producteur fermier   \n\n                ods_type_activite  \n0                          Autres  \n1                          Autres  \n2                          Autres  \n3                          Autres  \n4                          Autres  \n...                           ...  \n32715                   Abattoirs  \n32716                      Autres  \n32717  Viandes et produits carnés  \n32718                      Autres  \n32719                      Autres  \n\n[32720 rows x 13 columns]",
      "text/html": "<div>\n<style scoped>\n    .dataframe tbody tr th:only-of-type {\n        vertical-align: middle;\n    }\n\n    .dataframe tbody tr th {\n        vertical-align: top;\n    }\n\n    .dataframe thead th {\n        text-align: right;\n    }\n</style>\n<table border=\"1\" class=\"dataframe\">\n  <thead>\n    <tr style=\"text-align: right;\">\n      <th></th>\n      <th>APP_Libelle_etablissement</th>\n      <th>SIRET</th>\n      <th>Adresse_2_UA</th>\n      <th>Code_postal</th>\n      <th>Libelle_commune</th>\n      <th>Numero_inspection</th>\n      <th>Date_inspection</th>\n      <th>APP_Libelle_activite_etablissement</th>\n      <th>Synthese_eval_sanit</th>\n      <th>Agrement</th>\n      <th>geores</th>\n      <th>filtre</th>\n      <th>ods_type_activite</th>\n    </tr>\n  </thead>\n  <tbody>\n    <tr>\n      <th>0</th>\n      <td>SARL AUBERGE DU DOUBLE SIX</td>\n      <td>30121048000010</td>\n      <td>24 PL GENERAL LECLERC</td>\n      <td>80220</td>\n      <td>GAMACHES</td>\n      <td>16793484</td>\n      <td>2023-04-25T02:00:00+02:00</td>\n      <td>Restaurant</td>\n      <td>Satisfaisant</td>\n      <td>NaN</td>\n      <td>49.985274, 1.561386</td>\n      <td>Restaurant</td>\n      <td>Autres</td>\n    </tr>\n    <tr>\n      <th>1</th>\n      <td>MONSIEUR PHILIPPE MARIOTTE</td>\n      <td>31084873400029</td>\n      <td>286 RUE DU CENTRE</td>\n      <td>74260</td>\n      <td>LES GETS</td>\n      <td>16740394</td>\n      <td>2023-02-23T01:00:00+01:00</td>\n      <td>Restaurant</td>\n      <td>Satisfaisant</td>\n      <td>NaN</td>\n      <td>46.15861, 6.677963</td>\n      <td>Restaurant</td>\n      <td>Autres</td>\n    </tr>\n    <tr>\n      <th>2</th>\n      <td>NATURALIA (NATURALIA FRANCE)</td>\n      <td>30247464801894</td>\n      <td>36 RUE EUGENE EICHENBERGER</td>\n      <td>92800</td>\n      <td>PUTEAUX</td>\n      <td>16611978</td>\n      <td>2022-10-04T02:00:00+02:00</td>\n      <td>Alimentation générale</td>\n      <td>Satisfaisant</td>\n      <td>NaN</td>\n      <td>48.881317, 2.23746</td>\n      <td>Alimentation générale</td>\n      <td>Autres</td>\n    </tr>\n    <tr>\n      <th>3</th>\n      <td>SUPER-U (COLOMBELLES DISTRIBUTION)</td>\n      <td>30122377200031</td>\n      <td>RD 403</td>\n      <td>14460</td>\n      <td>COLOMBELLES</td>\n      <td>16787460</td>\n      <td>2023-04-20T02:00:00+02:00</td>\n      <td>Rayon boucherie-charcuterie</td>\n      <td>Très satisfaisant</td>\n      <td>NaN</td>\n      <td>NaN</td>\n      <td>Rayon boucherie-charcuterie</td>\n      <td>Autres</td>\n    </tr>\n    <tr>\n      <th>4</th>\n      <td>FRANPRIX (SOC DISTRIBUTION SODISCO SARL)</td>\n      <td>33427109500013</td>\n      <td>4, PLACE DU MOUSTIER</td>\n      <td>92210</td>\n      <td>SAINT CLOUD</td>\n      <td>16748988</td>\n      <td>2023-03-08T01:00:00+01:00</td>\n      <td>Alimentation générale</td>\n      <td>A améliorer</td>\n      <td>NaN</td>\n      <td>48.844091, 2.219818</td>\n      <td>Alimentation générale</td>\n      <td>Autres</td>\n    </tr>\n    <tr>\n      <th>...</th>\n      <td>...</td>\n      <td>...</td>\n      <td>...</td>\n      <td>...</td>\n      <td>...</td>\n      <td>...</td>\n      <td>...</td>\n      <td>...</td>\n      <td>...</td>\n      <td>...</td>\n      <td>...</td>\n      <td>...</td>\n      <td>...</td>\n    </tr>\n    <tr>\n      <th>32715</th>\n      <td>EARL TOUT LE BON</td>\n      <td>90449950600015</td>\n      <td>LE PLATE</td>\n      <td>97424</td>\n      <td>Saint-Leu</td>\n      <td>23-012756-1</td>\n      <td>2023-03-30T02:00:00+02:00</td>\n      <td>Chaîne d'abattage de volaille/lagomorphe/petit...</td>\n      <td>Satisfaisant</td>\n      <td>NaN</td>\n      <td>-21.206368, 55.337063</td>\n      <td>NaN</td>\n      <td>Abattoirs</td>\n    </tr>\n    <tr>\n      <th>32716</th>\n      <td>LA POKETERIE</td>\n      <td>84475120600013</td>\n      <td>3 RUE DE PROVENCE</td>\n      <td>75009</td>\n      <td>Paris 9e  Arrondissement</td>\n      <td>22-094901-1</td>\n      <td>2022-11-24T01:00:00+01:00</td>\n      <td>Restaurant</td>\n      <td>Satisfaisant</td>\n      <td>NaN</td>\n      <td>48.873997, 2.341843</td>\n      <td>Restaurant</td>\n      <td>Autres</td>\n    </tr>\n    <tr>\n      <th>32717</th>\n      <td>SAS GUY COQUILLAT</td>\n      <td>38853882900010</td>\n      <td>Z A Les Blaches Gombert</td>\n      <td>04160</td>\n      <td>Château-Arnoux-Saint-Auban</td>\n      <td>22-092105-1</td>\n      <td>2023-04-17T02:00:00+02:00</td>\n      <td>Transformation de produits carnés</td>\n      <td>Satisfaisant</td>\n      <td>04049001</td>\n      <td>44.078462, 5.999322</td>\n      <td>NaN</td>\n      <td>Viandes et produits carnés</td>\n    </tr>\n    <tr>\n      <th>32718</th>\n      <td>LIVESTATION DIY</td>\n      <td>75169891100011</td>\n      <td>LIVESTATION DIY</td>\n      <td>69007</td>\n      <td>Lyon 7e  Arrondissement</td>\n      <td>23-047240-1</td>\n      <td>2023-06-16T02:00:00+02:00</td>\n      <td>Restaurant</td>\n      <td>Satisfaisant</td>\n      <td>NaN</td>\n      <td>45.738402, 4.837636</td>\n      <td>Restaurant</td>\n      <td>Autres</td>\n    </tr>\n    <tr>\n      <th>32719</th>\n      <td>EARL TOUT LE BON</td>\n      <td>90449950600015</td>\n      <td>LE PLATE</td>\n      <td>97424</td>\n      <td>Saint-Leu</td>\n      <td>23-028361-1</td>\n      <td>2023-03-30T02:00:00+02:00</td>\n      <td>Producteur fermier</td>\n      <td>Satisfaisant</td>\n      <td>NaN</td>\n      <td>-21.206368, 55.337063</td>\n      <td>Producteur fermier</td>\n      <td>Autres</td>\n    </tr>\n  </tbody>\n</table>\n<p>32720 rows × 13 columns</p>\n</div>"
     },
     "execution_count": 123,
     "metadata": {},
     "output_type": "execute_result"
    }
   ],
   "source": [
    "data_frame"
   ],
   "metadata": {
    "collapsed": false,
    "ExecuteTime": {
     "end_time": "2023-09-11T14:25:03.031437Z",
     "start_time": "2023-09-11T14:25:03.019970Z"
    }
   },
   "id": "f647d91a8471b787"
  },
  {
   "cell_type": "code",
   "execution_count": 124,
   "outputs": [
    {
     "name": "stdout",
     "output_type": "stream",
     "text": [
      "<class 'pandas.core.frame.DataFrame'>\n",
      "RangeIndex: 32720 entries, 0 to 32719\n",
      "Data columns (total 13 columns):\n",
      " #   Column                              Non-Null Count  Dtype \n",
      "---  ------                              --------------  ----- \n",
      " 0   APP_Libelle_etablissement           32719 non-null  object\n",
      " 1   SIRET                               32720 non-null  object\n",
      " 2   Adresse_2_UA                        32292 non-null  object\n",
      " 3   Code_postal                         32720 non-null  object\n",
      " 4   Libelle_commune                     32720 non-null  object\n",
      " 5   Numero_inspection                   32720 non-null  object\n",
      " 6   Date_inspection                     32720 non-null  object\n",
      " 7   APP_Libelle_activite_etablissement  32720 non-null  object\n",
      " 8   Synthese_eval_sanit                 32720 non-null  object\n",
      " 9   Agrement                            8787 non-null   object\n",
      " 10  geores                              31961 non-null  object\n",
      " 11  filtre                              24086 non-null  object\n",
      " 12  ods_type_activite                   32720 non-null  object\n",
      "dtypes: object(13)\n",
      "memory usage: 3.2+ MB\n"
     ]
    }
   ],
   "source": [
    "data_frame.info()"
   ],
   "metadata": {
    "collapsed": false,
    "ExecuteTime": {
     "end_time": "2023-09-11T14:25:03.186057Z",
     "start_time": "2023-09-11T14:25:03.074188Z"
    }
   },
   "id": "b26e730d67507892"
  },
  {
   "cell_type": "code",
   "execution_count": 125,
   "outputs": [
    {
     "data": {
      "text/plain": "       APP_Libelle_etablissement           SIRET Adresse_2_UA Code_postal  \\\ncount                      32719           32720        32292       32720   \nunique                     25744           28832        27101        4989   \ntop      ECOLE PRIMAIRE PUBLIQUE  39814347900069     LE BOURG       75015   \nfreq                         162              12           91         557   \n\n                  Libelle_commune Numero_inspection  \\\ncount                       32720             32720   \nunique                       8460             32720   \ntop     Paris 15e  Arrondissement          16793484   \nfreq                          536                 1   \n\n                  Date_inspection APP_Libelle_activite_etablissement  \\\ncount                       32720                              32720   \nunique                        299                                149   \ntop     2023-04-04T02:00:00+02:00                         Restaurant   \nfreq                          251                              11653   \n\n       Synthese_eval_sanit  Agrement         geores      filtre  \\\ncount                32720      8787          31961       24086   \nunique                   4      6835          26914          94   \ntop           Satisfaisant  72080002  48.859, 2.347  Restaurant   \nfreq                 17976        10             50       11653   \n\n       ods_type_activite  \ncount              32720  \nunique                 7  \ntop               Autres  \nfreq               24737  ",
      "text/html": "<div>\n<style scoped>\n    .dataframe tbody tr th:only-of-type {\n        vertical-align: middle;\n    }\n\n    .dataframe tbody tr th {\n        vertical-align: top;\n    }\n\n    .dataframe thead th {\n        text-align: right;\n    }\n</style>\n<table border=\"1\" class=\"dataframe\">\n  <thead>\n    <tr style=\"text-align: right;\">\n      <th></th>\n      <th>APP_Libelle_etablissement</th>\n      <th>SIRET</th>\n      <th>Adresse_2_UA</th>\n      <th>Code_postal</th>\n      <th>Libelle_commune</th>\n      <th>Numero_inspection</th>\n      <th>Date_inspection</th>\n      <th>APP_Libelle_activite_etablissement</th>\n      <th>Synthese_eval_sanit</th>\n      <th>Agrement</th>\n      <th>geores</th>\n      <th>filtre</th>\n      <th>ods_type_activite</th>\n    </tr>\n  </thead>\n  <tbody>\n    <tr>\n      <th>count</th>\n      <td>32719</td>\n      <td>32720</td>\n      <td>32292</td>\n      <td>32720</td>\n      <td>32720</td>\n      <td>32720</td>\n      <td>32720</td>\n      <td>32720</td>\n      <td>32720</td>\n      <td>8787</td>\n      <td>31961</td>\n      <td>24086</td>\n      <td>32720</td>\n    </tr>\n    <tr>\n      <th>unique</th>\n      <td>25744</td>\n      <td>28832</td>\n      <td>27101</td>\n      <td>4989</td>\n      <td>8460</td>\n      <td>32720</td>\n      <td>299</td>\n      <td>149</td>\n      <td>4</td>\n      <td>6835</td>\n      <td>26914</td>\n      <td>94</td>\n      <td>7</td>\n    </tr>\n    <tr>\n      <th>top</th>\n      <td>ECOLE PRIMAIRE PUBLIQUE</td>\n      <td>39814347900069</td>\n      <td>LE BOURG</td>\n      <td>75015</td>\n      <td>Paris 15e  Arrondissement</td>\n      <td>16793484</td>\n      <td>2023-04-04T02:00:00+02:00</td>\n      <td>Restaurant</td>\n      <td>Satisfaisant</td>\n      <td>72080002</td>\n      <td>48.859, 2.347</td>\n      <td>Restaurant</td>\n      <td>Autres</td>\n    </tr>\n    <tr>\n      <th>freq</th>\n      <td>162</td>\n      <td>12</td>\n      <td>91</td>\n      <td>557</td>\n      <td>536</td>\n      <td>1</td>\n      <td>251</td>\n      <td>11653</td>\n      <td>17976</td>\n      <td>10</td>\n      <td>50</td>\n      <td>11653</td>\n      <td>24737</td>\n    </tr>\n  </tbody>\n</table>\n</div>"
     },
     "execution_count": 125,
     "metadata": {},
     "output_type": "execute_result"
    }
   ],
   "source": [
    "data_frame.describe()"
   ],
   "metadata": {
    "collapsed": false,
    "ExecuteTime": {
     "end_time": "2023-09-11T14:25:03.368839Z",
     "start_time": "2023-09-11T14:25:03.132672Z"
    }
   },
   "id": "405025c2b3f941b7"
  },
  {
   "cell_type": "code",
   "execution_count": 126,
   "outputs": [
    {
     "data": {
      "text/plain": "Index(['APP_Libelle_etablissement', 'SIRET', 'Adresse_2_UA', 'Code_postal',\n       'Libelle_commune', 'Numero_inspection', 'Date_inspection',\n       'APP_Libelle_activite_etablissement', 'Synthese_eval_sanit', 'Agrement',\n       'geores', 'filtre', 'ods_type_activite'],\n      dtype='object')"
     },
     "execution_count": 126,
     "metadata": {},
     "output_type": "execute_result"
    }
   ],
   "source": [
    "data_frame.columns"
   ],
   "metadata": {
    "collapsed": false,
    "ExecuteTime": {
     "end_time": "2023-09-11T14:25:03.430242Z",
     "start_time": "2023-09-11T14:25:03.362997Z"
    }
   },
   "id": "491f4e39886c472a"
  },
  {
   "cell_type": "code",
   "execution_count": 127,
   "outputs": [],
   "source": [
    "# Droper les colonnes qui ne sont pas :  Date_inspection, APP_Libelle_activite, geores, Synthese_eval_sanitaire\n",
    "data_frame = data_frame.drop(['APP_Libelle_etablissement', 'SIRET', 'Adresse_2_UA', 'Code_postal', 'Agrement', 'filtre', 'ods_type_activite', 'Numero_inspection', 'Libelle_commune'], axis=1)"
   ],
   "metadata": {
    "collapsed": false,
    "ExecuteTime": {
     "end_time": "2023-09-11T14:25:03.472790Z",
     "start_time": "2023-09-11T14:25:03.382491Z"
    }
   },
   "id": "549ce8e705bddbc6"
  },
  {
   "cell_type": "code",
   "execution_count": 128,
   "outputs": [
    {
     "data": {
      "text/plain": "Index(['Date_inspection', 'APP_Libelle_activite_etablissement',\n       'Synthese_eval_sanit', 'geores'],\n      dtype='object')"
     },
     "execution_count": 128,
     "metadata": {},
     "output_type": "execute_result"
    }
   ],
   "source": [
    "data_frame.columns"
   ],
   "metadata": {
    "collapsed": false,
    "ExecuteTime": {
     "end_time": "2023-09-11T14:25:03.535215Z",
     "start_time": "2023-09-11T14:25:03.396591Z"
    }
   },
   "id": "7abc3ecf794be8ef"
  },
  {
   "cell_type": "code",
   "execution_count": 129,
   "outputs": [],
   "source": [
    "# On decompose les datas en 2 parties : les features et les targets\n",
    "# Les features sont les colonnes qui nous permettent de predire la target\n",
    "# Les targets sont les colonnes est la colonne Synthese_eval_sanit\n",
    "\n",
    "X = data_frame.drop(['Synthese_eval_sanit'], axis=1)\n",
    "Y = data_frame['Synthese_eval_sanit']"
   ],
   "metadata": {
    "collapsed": false,
    "ExecuteTime": {
     "end_time": "2023-09-11T14:25:03.544814Z",
     "start_time": "2023-09-11T14:25:03.415005Z"
    }
   },
   "id": "4f372b87736c3cc"
  },
  {
   "cell_type": "code",
   "execution_count": 130,
   "outputs": [
    {
     "data": {
      "text/plain": "                 Date_inspection  \\\n0      2023-04-25T02:00:00+02:00   \n1      2023-02-23T01:00:00+01:00   \n2      2022-10-04T02:00:00+02:00   \n3      2023-04-20T02:00:00+02:00   \n4      2023-03-08T01:00:00+01:00   \n...                          ...   \n32715  2023-03-30T02:00:00+02:00   \n32716  2022-11-24T01:00:00+01:00   \n32717  2023-04-17T02:00:00+02:00   \n32718  2023-06-16T02:00:00+02:00   \n32719  2023-03-30T02:00:00+02:00   \n\n                      APP_Libelle_activite_etablissement  \\\n0                                             Restaurant   \n1                                             Restaurant   \n2                                  Alimentation générale   \n3                            Rayon boucherie-charcuterie   \n4                                  Alimentation générale   \n...                                                  ...   \n32715  Chaîne d'abattage de volaille/lagomorphe/petit...   \n32716                                         Restaurant   \n32717                  Transformation de produits carnés   \n32718                                         Restaurant   \n32719                                 Producteur fermier   \n\n                      geores  \n0        49.985274, 1.561386  \n1         46.15861, 6.677963  \n2         48.881317, 2.23746  \n3                        NaN  \n4        48.844091, 2.219818  \n...                      ...  \n32715  -21.206368, 55.337063  \n32716    48.873997, 2.341843  \n32717    44.078462, 5.999322  \n32718    45.738402, 4.837636  \n32719  -21.206368, 55.337063  \n\n[32720 rows x 3 columns]",
      "text/html": "<div>\n<style scoped>\n    .dataframe tbody tr th:only-of-type {\n        vertical-align: middle;\n    }\n\n    .dataframe tbody tr th {\n        vertical-align: top;\n    }\n\n    .dataframe thead th {\n        text-align: right;\n    }\n</style>\n<table border=\"1\" class=\"dataframe\">\n  <thead>\n    <tr style=\"text-align: right;\">\n      <th></th>\n      <th>Date_inspection</th>\n      <th>APP_Libelle_activite_etablissement</th>\n      <th>geores</th>\n    </tr>\n  </thead>\n  <tbody>\n    <tr>\n      <th>0</th>\n      <td>2023-04-25T02:00:00+02:00</td>\n      <td>Restaurant</td>\n      <td>49.985274, 1.561386</td>\n    </tr>\n    <tr>\n      <th>1</th>\n      <td>2023-02-23T01:00:00+01:00</td>\n      <td>Restaurant</td>\n      <td>46.15861, 6.677963</td>\n    </tr>\n    <tr>\n      <th>2</th>\n      <td>2022-10-04T02:00:00+02:00</td>\n      <td>Alimentation générale</td>\n      <td>48.881317, 2.23746</td>\n    </tr>\n    <tr>\n      <th>3</th>\n      <td>2023-04-20T02:00:00+02:00</td>\n      <td>Rayon boucherie-charcuterie</td>\n      <td>NaN</td>\n    </tr>\n    <tr>\n      <th>4</th>\n      <td>2023-03-08T01:00:00+01:00</td>\n      <td>Alimentation générale</td>\n      <td>48.844091, 2.219818</td>\n    </tr>\n    <tr>\n      <th>...</th>\n      <td>...</td>\n      <td>...</td>\n      <td>...</td>\n    </tr>\n    <tr>\n      <th>32715</th>\n      <td>2023-03-30T02:00:00+02:00</td>\n      <td>Chaîne d'abattage de volaille/lagomorphe/petit...</td>\n      <td>-21.206368, 55.337063</td>\n    </tr>\n    <tr>\n      <th>32716</th>\n      <td>2022-11-24T01:00:00+01:00</td>\n      <td>Restaurant</td>\n      <td>48.873997, 2.341843</td>\n    </tr>\n    <tr>\n      <th>32717</th>\n      <td>2023-04-17T02:00:00+02:00</td>\n      <td>Transformation de produits carnés</td>\n      <td>44.078462, 5.999322</td>\n    </tr>\n    <tr>\n      <th>32718</th>\n      <td>2023-06-16T02:00:00+02:00</td>\n      <td>Restaurant</td>\n      <td>45.738402, 4.837636</td>\n    </tr>\n    <tr>\n      <th>32719</th>\n      <td>2023-03-30T02:00:00+02:00</td>\n      <td>Producteur fermier</td>\n      <td>-21.206368, 55.337063</td>\n    </tr>\n  </tbody>\n</table>\n<p>32720 rows × 3 columns</p>\n</div>"
     },
     "execution_count": 130,
     "metadata": {},
     "output_type": "execute_result"
    }
   ],
   "source": [
    "X"
   ],
   "metadata": {
    "collapsed": false,
    "ExecuteTime": {
     "end_time": "2023-09-11T14:25:03.569520Z",
     "start_time": "2023-09-11T14:25:03.439254Z"
    }
   },
   "id": "9dd5cbe751db1221"
  },
  {
   "cell_type": "code",
   "execution_count": 131,
   "outputs": [
    {
     "data": {
      "text/plain": "0             Satisfaisant\n1             Satisfaisant\n2             Satisfaisant\n3        Très satisfaisant\n4              A améliorer\n               ...        \n32715         Satisfaisant\n32716         Satisfaisant\n32717         Satisfaisant\n32718         Satisfaisant\n32719         Satisfaisant\nName: Synthese_eval_sanit, Length: 32720, dtype: object"
     },
     "execution_count": 131,
     "metadata": {},
     "output_type": "execute_result"
    }
   ],
   "source": [
    "Y"
   ],
   "metadata": {
    "collapsed": false,
    "ExecuteTime": {
     "end_time": "2023-09-11T14:25:03.679522Z",
     "start_time": "2023-09-11T14:25:03.462218Z"
    }
   },
   "id": "3bccb85c33a1056e"
  },
  {
   "cell_type": "code",
   "execution_count": 132,
   "outputs": [],
   "source": [
    "# On crée une fonction qui va nous permettre de vérifier le format de la date avec cet example 2023-04-25T02:00:00+02:00, si la ligne est pas bonne on drop la ligne\n",
    "def check_date_format(date):\n",
    "    if re.match(r'^\\d{4}-\\d{2}-\\d{2}T\\d{2}:\\d{2}:\\d{2}\\+\\d{2}:\\d{2}$', date):\n",
    "        return date\n",
    "    else:\n",
    "        return None"
   ],
   "metadata": {
    "collapsed": false,
    "ExecuteTime": {
     "end_time": "2023-09-11T14:25:03.679803Z",
     "start_time": "2023-09-11T14:25:03.475871Z"
    }
   },
   "id": "8b962ec4c81dc77a"
  },
  {
   "cell_type": "code",
   "execution_count": 133,
   "outputs": [],
   "source": [
    "# On applique la fonction sur la colonne Date_inspection\n",
    "X['Date_inspection'] = X['Date_inspection'].apply(check_date_format)"
   ],
   "metadata": {
    "collapsed": false,
    "ExecuteTime": {
     "end_time": "2023-09-11T14:25:03.682023Z",
     "start_time": "2023-09-11T14:25:03.558361Z"
    }
   },
   "id": "6cb86e2cdd8876b7"
  },
  {
   "cell_type": "code",
   "execution_count": 134,
   "outputs": [
    {
     "data": {
      "text/plain": "                 Date_inspection  \\\n0      2023-04-25T02:00:00+02:00   \n1      2023-02-23T01:00:00+01:00   \n2      2022-10-04T02:00:00+02:00   \n3      2023-04-20T02:00:00+02:00   \n4      2023-03-08T01:00:00+01:00   \n...                          ...   \n32715  2023-03-30T02:00:00+02:00   \n32716  2022-11-24T01:00:00+01:00   \n32717  2023-04-17T02:00:00+02:00   \n32718  2023-06-16T02:00:00+02:00   \n32719  2023-03-30T02:00:00+02:00   \n\n                      APP_Libelle_activite_etablissement  \\\n0                                             Restaurant   \n1                                             Restaurant   \n2                                  Alimentation générale   \n3                            Rayon boucherie-charcuterie   \n4                                  Alimentation générale   \n...                                                  ...   \n32715  Chaîne d'abattage de volaille/lagomorphe/petit...   \n32716                                         Restaurant   \n32717                  Transformation de produits carnés   \n32718                                         Restaurant   \n32719                                 Producteur fermier   \n\n                      geores  \n0        49.985274, 1.561386  \n1         46.15861, 6.677963  \n2         48.881317, 2.23746  \n3                        NaN  \n4        48.844091, 2.219818  \n...                      ...  \n32715  -21.206368, 55.337063  \n32716    48.873997, 2.341843  \n32717    44.078462, 5.999322  \n32718    45.738402, 4.837636  \n32719  -21.206368, 55.337063  \n\n[32720 rows x 3 columns]",
      "text/html": "<div>\n<style scoped>\n    .dataframe tbody tr th:only-of-type {\n        vertical-align: middle;\n    }\n\n    .dataframe tbody tr th {\n        vertical-align: top;\n    }\n\n    .dataframe thead th {\n        text-align: right;\n    }\n</style>\n<table border=\"1\" class=\"dataframe\">\n  <thead>\n    <tr style=\"text-align: right;\">\n      <th></th>\n      <th>Date_inspection</th>\n      <th>APP_Libelle_activite_etablissement</th>\n      <th>geores</th>\n    </tr>\n  </thead>\n  <tbody>\n    <tr>\n      <th>0</th>\n      <td>2023-04-25T02:00:00+02:00</td>\n      <td>Restaurant</td>\n      <td>49.985274, 1.561386</td>\n    </tr>\n    <tr>\n      <th>1</th>\n      <td>2023-02-23T01:00:00+01:00</td>\n      <td>Restaurant</td>\n      <td>46.15861, 6.677963</td>\n    </tr>\n    <tr>\n      <th>2</th>\n      <td>2022-10-04T02:00:00+02:00</td>\n      <td>Alimentation générale</td>\n      <td>48.881317, 2.23746</td>\n    </tr>\n    <tr>\n      <th>3</th>\n      <td>2023-04-20T02:00:00+02:00</td>\n      <td>Rayon boucherie-charcuterie</td>\n      <td>NaN</td>\n    </tr>\n    <tr>\n      <th>4</th>\n      <td>2023-03-08T01:00:00+01:00</td>\n      <td>Alimentation générale</td>\n      <td>48.844091, 2.219818</td>\n    </tr>\n    <tr>\n      <th>...</th>\n      <td>...</td>\n      <td>...</td>\n      <td>...</td>\n    </tr>\n    <tr>\n      <th>32715</th>\n      <td>2023-03-30T02:00:00+02:00</td>\n      <td>Chaîne d'abattage de volaille/lagomorphe/petit...</td>\n      <td>-21.206368, 55.337063</td>\n    </tr>\n    <tr>\n      <th>32716</th>\n      <td>2022-11-24T01:00:00+01:00</td>\n      <td>Restaurant</td>\n      <td>48.873997, 2.341843</td>\n    </tr>\n    <tr>\n      <th>32717</th>\n      <td>2023-04-17T02:00:00+02:00</td>\n      <td>Transformation de produits carnés</td>\n      <td>44.078462, 5.999322</td>\n    </tr>\n    <tr>\n      <th>32718</th>\n      <td>2023-06-16T02:00:00+02:00</td>\n      <td>Restaurant</td>\n      <td>45.738402, 4.837636</td>\n    </tr>\n    <tr>\n      <th>32719</th>\n      <td>2023-03-30T02:00:00+02:00</td>\n      <td>Producteur fermier</td>\n      <td>-21.206368, 55.337063</td>\n    </tr>\n  </tbody>\n</table>\n<p>32720 rows × 3 columns</p>\n</div>"
     },
     "execution_count": 134,
     "metadata": {},
     "output_type": "execute_result"
    }
   ],
   "source": [
    "X"
   ],
   "metadata": {
    "collapsed": false,
    "ExecuteTime": {
     "end_time": "2023-09-11T14:25:03.699585Z",
     "start_time": "2023-09-11T14:25:03.582869Z"
    }
   },
   "id": "57df8f68fe814010"
  },
  {
   "cell_type": "code",
   "execution_count": 135,
   "outputs": [],
   "source": [
    "# On drop les lignes qui ont une valeur null ou NaN\n",
    "X = X.dropna()"
   ],
   "metadata": {
    "collapsed": false,
    "ExecuteTime": {
     "end_time": "2023-09-11T14:25:03.762616Z",
     "start_time": "2023-09-11T14:25:03.594605Z"
    }
   },
   "id": "67fd1b5678c82049"
  },
  {
   "cell_type": "code",
   "execution_count": 136,
   "outputs": [
    {
     "data": {
      "text/plain": "                 Date_inspection  \\\n0      2023-04-25T02:00:00+02:00   \n1      2023-02-23T01:00:00+01:00   \n2      2022-10-04T02:00:00+02:00   \n4      2023-03-08T01:00:00+01:00   \n5      2023-04-25T02:00:00+02:00   \n...                          ...   \n32715  2023-03-30T02:00:00+02:00   \n32716  2022-11-24T01:00:00+01:00   \n32717  2023-04-17T02:00:00+02:00   \n32718  2023-06-16T02:00:00+02:00   \n32719  2023-03-30T02:00:00+02:00   \n\n                      APP_Libelle_activite_etablissement  \\\n0                                             Restaurant   \n1                                             Restaurant   \n2                                  Alimentation générale   \n4                                  Alimentation générale   \n5                                  Alimentation générale   \n...                                                  ...   \n32715  Chaîne d'abattage de volaille/lagomorphe/petit...   \n32716                                         Restaurant   \n32717                  Transformation de produits carnés   \n32718                                         Restaurant   \n32719                                 Producteur fermier   \n\n                      geores  \n0        49.985274, 1.561386  \n1         46.15861, 6.677963  \n2         48.881317, 2.23746  \n4        48.844091, 2.219818  \n5       48.072687, -4.185142  \n...                      ...  \n32715  -21.206368, 55.337063  \n32716    48.873997, 2.341843  \n32717    44.078462, 5.999322  \n32718    45.738402, 4.837636  \n32719  -21.206368, 55.337063  \n\n[31961 rows x 3 columns]",
      "text/html": "<div>\n<style scoped>\n    .dataframe tbody tr th:only-of-type {\n        vertical-align: middle;\n    }\n\n    .dataframe tbody tr th {\n        vertical-align: top;\n    }\n\n    .dataframe thead th {\n        text-align: right;\n    }\n</style>\n<table border=\"1\" class=\"dataframe\">\n  <thead>\n    <tr style=\"text-align: right;\">\n      <th></th>\n      <th>Date_inspection</th>\n      <th>APP_Libelle_activite_etablissement</th>\n      <th>geores</th>\n    </tr>\n  </thead>\n  <tbody>\n    <tr>\n      <th>0</th>\n      <td>2023-04-25T02:00:00+02:00</td>\n      <td>Restaurant</td>\n      <td>49.985274, 1.561386</td>\n    </tr>\n    <tr>\n      <th>1</th>\n      <td>2023-02-23T01:00:00+01:00</td>\n      <td>Restaurant</td>\n      <td>46.15861, 6.677963</td>\n    </tr>\n    <tr>\n      <th>2</th>\n      <td>2022-10-04T02:00:00+02:00</td>\n      <td>Alimentation générale</td>\n      <td>48.881317, 2.23746</td>\n    </tr>\n    <tr>\n      <th>4</th>\n      <td>2023-03-08T01:00:00+01:00</td>\n      <td>Alimentation générale</td>\n      <td>48.844091, 2.219818</td>\n    </tr>\n    <tr>\n      <th>5</th>\n      <td>2023-04-25T02:00:00+02:00</td>\n      <td>Alimentation générale</td>\n      <td>48.072687, -4.185142</td>\n    </tr>\n    <tr>\n      <th>...</th>\n      <td>...</td>\n      <td>...</td>\n      <td>...</td>\n    </tr>\n    <tr>\n      <th>32715</th>\n      <td>2023-03-30T02:00:00+02:00</td>\n      <td>Chaîne d'abattage de volaille/lagomorphe/petit...</td>\n      <td>-21.206368, 55.337063</td>\n    </tr>\n    <tr>\n      <th>32716</th>\n      <td>2022-11-24T01:00:00+01:00</td>\n      <td>Restaurant</td>\n      <td>48.873997, 2.341843</td>\n    </tr>\n    <tr>\n      <th>32717</th>\n      <td>2023-04-17T02:00:00+02:00</td>\n      <td>Transformation de produits carnés</td>\n      <td>44.078462, 5.999322</td>\n    </tr>\n    <tr>\n      <th>32718</th>\n      <td>2023-06-16T02:00:00+02:00</td>\n      <td>Restaurant</td>\n      <td>45.738402, 4.837636</td>\n    </tr>\n    <tr>\n      <th>32719</th>\n      <td>2023-03-30T02:00:00+02:00</td>\n      <td>Producteur fermier</td>\n      <td>-21.206368, 55.337063</td>\n    </tr>\n  </tbody>\n</table>\n<p>31961 rows × 3 columns</p>\n</div>"
     },
     "execution_count": 136,
     "metadata": {},
     "output_type": "execute_result"
    }
   ],
   "source": [
    "X"
   ],
   "metadata": {
    "collapsed": false,
    "ExecuteTime": {
     "end_time": "2023-09-11T14:25:03.800818Z",
     "start_time": "2023-09-11T14:25:03.632126Z"
    }
   },
   "id": "fcfb4b3fadde4275"
  }
 ],
 "metadata": {
  "kernelspec": {
   "display_name": "Python 3",
   "language": "python",
   "name": "python3"
  },
  "language_info": {
   "codemirror_mode": {
    "name": "ipython",
    "version": 2
   },
   "file_extension": ".py",
   "mimetype": "text/x-python",
   "name": "python",
   "nbconvert_exporter": "python",
   "pygments_lexer": "ipython2",
   "version": "2.7.6"
  }
 },
 "nbformat": 4,
 "nbformat_minor": 5
}
