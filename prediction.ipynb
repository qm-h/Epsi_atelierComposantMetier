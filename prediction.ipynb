{
 "cells": [
  {
   "cell_type": "markdown",
   "source": [
    "## Préparation de la Prédiction"
   ],
   "metadata": {
    "collapsed": false
   },
   "id": "4661bfaafc97c7a"
  },
  {
   "cell_type": "code",
   "execution_count": 15,
   "outputs": [],
   "source": [
    "# Chargement du modèle\n",
    "ideal_model_rf = None\n",
    "%store -r ideal_model_rf"
   ],
   "metadata": {
    "collapsed": false,
    "ExecuteTime": {
     "end_time": "2023-09-12T13:26:58.259853Z",
     "start_time": "2023-09-12T13:26:57.583424Z"
    }
   },
   "id": "8ef0a6c9df7eb085"
  },
  {
   "cell_type": "code",
   "execution_count": 16,
   "outputs": [],
   "source": [
    "# Chargement des données \n",
    "X, Y = None, None\n",
    "%store -r X\n",
    "%store -r Y"
   ],
   "metadata": {
    "collapsed": false,
    "ExecuteTime": {
     "end_time": "2023-09-12T13:27:00.113346Z",
     "start_time": "2023-09-12T13:27:00.107777Z"
    }
   },
   "id": "889703488e617148"
  },
  {
   "cell_type": "code",
   "execution_count": 21,
   "outputs": [
    {
     "data": {
      "text/plain": "       Date_inspection  APP_Libelle_activite_etablissement    latitude  \\\n0         1.682381e+09                                   0  49985274.0   \n1         1.677110e+09                                   0   4615861.0   \n2         1.664842e+09                                   1  48881317.0   \n4         1.678234e+09                                   1  48844091.0   \n5         1.682381e+09                                   1  48072687.0   \n...                ...                                 ...         ...   \n32715     1.680134e+09                                  29  21206368.0   \n32716     1.669248e+09                                   0  48873997.0   \n32717     1.681690e+09                                  21  44078462.0   \n32718     1.686874e+09                                   0  45738402.0   \n32719     1.680134e+09                                  22  21206368.0   \n\n        longitude  \n0       1561386.0  \n1       6677963.0  \n2        223746.0  \n4       2219818.0  \n5       4185142.0  \n...           ...  \n32715  55337063.0  \n32716   2341843.0  \n32717   5999322.0  \n32718   4837636.0  \n32719  55337063.0  \n\n[31961 rows x 4 columns]",
      "text/html": "<div>\n<style scoped>\n    .dataframe tbody tr th:only-of-type {\n        vertical-align: middle;\n    }\n\n    .dataframe tbody tr th {\n        vertical-align: top;\n    }\n\n    .dataframe thead th {\n        text-align: right;\n    }\n</style>\n<table border=\"1\" class=\"dataframe\">\n  <thead>\n    <tr style=\"text-align: right;\">\n      <th></th>\n      <th>Date_inspection</th>\n      <th>APP_Libelle_activite_etablissement</th>\n      <th>latitude</th>\n      <th>longitude</th>\n    </tr>\n  </thead>\n  <tbody>\n    <tr>\n      <th>0</th>\n      <td>1.682381e+09</td>\n      <td>0</td>\n      <td>49985274.0</td>\n      <td>1561386.0</td>\n    </tr>\n    <tr>\n      <th>1</th>\n      <td>1.677110e+09</td>\n      <td>0</td>\n      <td>4615861.0</td>\n      <td>6677963.0</td>\n    </tr>\n    <tr>\n      <th>2</th>\n      <td>1.664842e+09</td>\n      <td>1</td>\n      <td>48881317.0</td>\n      <td>223746.0</td>\n    </tr>\n    <tr>\n      <th>4</th>\n      <td>1.678234e+09</td>\n      <td>1</td>\n      <td>48844091.0</td>\n      <td>2219818.0</td>\n    </tr>\n    <tr>\n      <th>5</th>\n      <td>1.682381e+09</td>\n      <td>1</td>\n      <td>48072687.0</td>\n      <td>4185142.0</td>\n    </tr>\n    <tr>\n      <th>...</th>\n      <td>...</td>\n      <td>...</td>\n      <td>...</td>\n      <td>...</td>\n    </tr>\n    <tr>\n      <th>32715</th>\n      <td>1.680134e+09</td>\n      <td>29</td>\n      <td>21206368.0</td>\n      <td>55337063.0</td>\n    </tr>\n    <tr>\n      <th>32716</th>\n      <td>1.669248e+09</td>\n      <td>0</td>\n      <td>48873997.0</td>\n      <td>2341843.0</td>\n    </tr>\n    <tr>\n      <th>32717</th>\n      <td>1.681690e+09</td>\n      <td>21</td>\n      <td>44078462.0</td>\n      <td>5999322.0</td>\n    </tr>\n    <tr>\n      <th>32718</th>\n      <td>1.686874e+09</td>\n      <td>0</td>\n      <td>45738402.0</td>\n      <td>4837636.0</td>\n    </tr>\n    <tr>\n      <th>32719</th>\n      <td>1.680134e+09</td>\n      <td>22</td>\n      <td>21206368.0</td>\n      <td>55337063.0</td>\n    </tr>\n  </tbody>\n</table>\n<p>31961 rows × 4 columns</p>\n</div>"
     },
     "execution_count": 21,
     "metadata": {},
     "output_type": "execute_result"
    }
   ],
   "source": [
    "X"
   ],
   "metadata": {
    "collapsed": false,
    "ExecuteTime": {
     "end_time": "2023-09-12T13:28:40.691001Z",
     "start_time": "2023-09-12T13:28:40.679615Z"
    }
   },
   "id": "5c2563c15b39a041"
  },
  {
   "cell_type": "code",
   "execution_count": 22,
   "outputs": [
    {
     "data": {
      "text/plain": "0             Satisfaisant\n1             Satisfaisant\n2             Satisfaisant\n4              A améliorer\n5        Très satisfaisant\n               ...        \n32715         Satisfaisant\n32716         Satisfaisant\n32717         Satisfaisant\n32718         Satisfaisant\n32719         Satisfaisant\nName: Synthese_eval_sanit, Length: 31961, dtype: object"
     },
     "execution_count": 22,
     "metadata": {},
     "output_type": "execute_result"
    }
   ],
   "source": [
    "Y"
   ],
   "metadata": {
    "collapsed": false,
    "ExecuteTime": {
     "end_time": "2023-09-12T13:28:47.648691Z",
     "start_time": "2023-09-12T13:28:47.640522Z"
    }
   },
   "id": "b0d8311d843a1d16"
  },
  {
   "cell_type": "code",
   "execution_count": null,
   "outputs": [],
   "source": [],
   "metadata": {
    "collapsed": false
   },
   "id": "32c4b2cf5a9101b9"
  },
  {
   "cell_type": "markdown",
   "source": [
    "## Prédiction"
   ],
   "metadata": {
    "collapsed": false
   },
   "id": "e682ca61400d071a"
  }
 ],
 "metadata": {
  "kernelspec": {
   "display_name": "Python 3",
   "language": "python",
   "name": "python3"
  },
  "language_info": {
   "codemirror_mode": {
    "name": "ipython",
    "version": 2
   },
   "file_extension": ".py",
   "mimetype": "text/x-python",
   "name": "python",
   "nbconvert_exporter": "python",
   "pygments_lexer": "ipython2",
   "version": "2.7.6"
  }
 },
 "nbformat": 4,
 "nbformat_minor": 5
}
