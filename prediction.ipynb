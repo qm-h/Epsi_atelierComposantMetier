{
 "cells": [
  {
   "cell_type": "markdown",
   "source": [
    "## Préparation de la Prédiction"
   ],
   "metadata": {
    "collapsed": false
   },
   "id": "4661bfaafc97c7a"
  },
  {
   "cell_type": "code",
   "execution_count": 9,
   "outputs": [
    {
     "name": "stdout",
     "output_type": "stream",
     "text": [
      "no stored variable or alias ideal_model_rf\n"
     ]
    }
   ],
   "source": [
    "# Chargement du modèle\n",
    "ideal_model_rf = None\n",
    "%store -r ideal_model_rf"
   ],
   "metadata": {
    "collapsed": false,
    "ExecuteTime": {
     "end_time": "2023-09-16T15:53:15.824454Z",
     "start_time": "2023-09-16T15:53:15.819627Z"
    }
   },
   "id": "8ef0a6c9df7eb085"
  },
  {
   "cell_type": "code",
   "execution_count": 10,
   "outputs": [],
   "source": [
    "# Chargement des données \n",
    "X, Y = None, None\n",
    "%store -r X\n",
    "%store -r Y"
   ],
   "metadata": {
    "collapsed": false,
    "ExecuteTime": {
     "end_time": "2023-09-16T15:53:17.129159Z",
     "start_time": "2023-09-16T15:53:16.613673Z"
    }
   },
   "id": "889703488e617148"
  },
  {
   "cell_type": "code",
   "execution_count": 11,
   "outputs": [
    {
     "data": {
      "text/plain": "       Date_inspection  APP_Libelle_activite_etablissement    latitude  \\\n0         1.682381e+09                                   0  49985274.0   \n1         1.677110e+09                                   0   4615861.0   \n2         1.664842e+09                                   1  48881317.0   \n4         1.678234e+09                                   1  48844091.0   \n5         1.682381e+09                                   1  48072687.0   \n...                ...                                 ...         ...   \n32715     1.680134e+09                                  29  21206368.0   \n32716     1.669248e+09                                   0  48873997.0   \n32717     1.681690e+09                                  21  44078462.0   \n32718     1.686874e+09                                   0  45738402.0   \n32719     1.680134e+09                                  22  21206368.0   \n\n        longitude  \n0       1561386.0  \n1       6677963.0  \n2        223746.0  \n4       2219818.0  \n5       4185142.0  \n...           ...  \n32715  55337063.0  \n32716   2341843.0  \n32717   5999322.0  \n32718   4837636.0  \n32719  55337063.0  \n\n[31922 rows x 4 columns]",
      "text/html": "<div>\n<style scoped>\n    .dataframe tbody tr th:only-of-type {\n        vertical-align: middle;\n    }\n\n    .dataframe tbody tr th {\n        vertical-align: top;\n    }\n\n    .dataframe thead th {\n        text-align: right;\n    }\n</style>\n<table border=\"1\" class=\"dataframe\">\n  <thead>\n    <tr style=\"text-align: right;\">\n      <th></th>\n      <th>Date_inspection</th>\n      <th>APP_Libelle_activite_etablissement</th>\n      <th>latitude</th>\n      <th>longitude</th>\n    </tr>\n  </thead>\n  <tbody>\n    <tr>\n      <th>0</th>\n      <td>1.682381e+09</td>\n      <td>0</td>\n      <td>49985274.0</td>\n      <td>1561386.0</td>\n    </tr>\n    <tr>\n      <th>1</th>\n      <td>1.677110e+09</td>\n      <td>0</td>\n      <td>4615861.0</td>\n      <td>6677963.0</td>\n    </tr>\n    <tr>\n      <th>2</th>\n      <td>1.664842e+09</td>\n      <td>1</td>\n      <td>48881317.0</td>\n      <td>223746.0</td>\n    </tr>\n    <tr>\n      <th>4</th>\n      <td>1.678234e+09</td>\n      <td>1</td>\n      <td>48844091.0</td>\n      <td>2219818.0</td>\n    </tr>\n    <tr>\n      <th>5</th>\n      <td>1.682381e+09</td>\n      <td>1</td>\n      <td>48072687.0</td>\n      <td>4185142.0</td>\n    </tr>\n    <tr>\n      <th>...</th>\n      <td>...</td>\n      <td>...</td>\n      <td>...</td>\n      <td>...</td>\n    </tr>\n    <tr>\n      <th>32715</th>\n      <td>1.680134e+09</td>\n      <td>29</td>\n      <td>21206368.0</td>\n      <td>55337063.0</td>\n    </tr>\n    <tr>\n      <th>32716</th>\n      <td>1.669248e+09</td>\n      <td>0</td>\n      <td>48873997.0</td>\n      <td>2341843.0</td>\n    </tr>\n    <tr>\n      <th>32717</th>\n      <td>1.681690e+09</td>\n      <td>21</td>\n      <td>44078462.0</td>\n      <td>5999322.0</td>\n    </tr>\n    <tr>\n      <th>32718</th>\n      <td>1.686874e+09</td>\n      <td>0</td>\n      <td>45738402.0</td>\n      <td>4837636.0</td>\n    </tr>\n    <tr>\n      <th>32719</th>\n      <td>1.680134e+09</td>\n      <td>22</td>\n      <td>21206368.0</td>\n      <td>55337063.0</td>\n    </tr>\n  </tbody>\n</table>\n<p>31922 rows × 4 columns</p>\n</div>"
     },
     "execution_count": 11,
     "metadata": {},
     "output_type": "execute_result"
    }
   ],
   "source": [
    "X"
   ],
   "metadata": {
    "collapsed": false,
    "ExecuteTime": {
     "end_time": "2023-09-16T15:53:17.149894Z",
     "start_time": "2023-09-16T15:53:17.134076Z"
    }
   },
   "id": "5c2563c15b39a041"
  },
  {
   "cell_type": "code",
   "execution_count": 25,
   "outputs": [
    {
     "data": {
      "text/plain": "0             Satisfaisant\n1             Satisfaisant\n2             Satisfaisant\n4              A améliorer\n5        Très satisfaisant\n               ...        \n32715         Satisfaisant\n32716         Satisfaisant\n32717         Satisfaisant\n32718         Satisfaisant\n32719         Satisfaisant\nName: Synthese_eval_sanit, Length: 31922, dtype: object"
     },
     "execution_count": 25,
     "metadata": {},
     "output_type": "execute_result"
    }
   ],
   "source": [
    "Y"
   ],
   "metadata": {
    "collapsed": false,
    "ExecuteTime": {
     "end_time": "2023-09-16T16:07:50.349493Z",
     "start_time": "2023-09-16T16:07:50.341404Z"
    }
   },
   "id": "b0d8311d843a1d16"
  },
  {
   "cell_type": "code",
   "execution_count": null,
   "outputs": [],
   "source": [],
   "metadata": {
    "collapsed": false
   },
   "id": "32c4b2cf5a9101b9"
  },
  {
   "cell_type": "markdown",
   "source": [
    "## Prédiction"
   ],
   "metadata": {
    "collapsed": false
   },
   "id": "e682ca61400d071a"
  },
  {
   "cell_type": "code",
   "execution_count": 48,
   "outputs": [
    {
     "name": "stdout",
     "output_type": "stream",
     "text": [
      "Prédictions :\n",
      "['Satisfaisant' 'Satisfaisant' 'Satisfaisant' ... 'A améliorer'\n",
      " 'Très satisfaisant' 'Très satisfaisant']\n"
     ]
    }
   ],
   "source": [
    "import pandas as pd\n",
    "from sklearn.ensemble import RandomForestClassifier\n",
    "from sklearn.model_selection import train_test_split\n",
    "from sklearn.preprocessing import LabelEncoder\n",
    "\n",
    "data_x = X\n",
    "data_y = Y\n",
    "\n",
    "label_encoder = LabelEncoder()\n",
    "data_y_encoded = label_encoder.fit_transform(data_y)\n",
    "\n",
    "X_train, X_test, y_train, y_test = train_test_split(data_x, data_y_encoded, test_size=0.2, random_state=42)\n",
    "\n",
    "random_forest = RandomForestClassifier(n_estimators=100, random_state=42)\n",
    "\n",
    "random_forest.fit(X_train, y_train)\n",
    "\n",
    "y_pred = random_forest.predict(X_test)\n",
    "\n",
    "y_pred_decoded = label_encoder.inverse_transform(y_pred)\n",
    "\n",
    "print(\"Prédictions :\")\n",
    "print(y_pred_decoded)\n"
   ],
   "metadata": {
    "collapsed": false,
    "ExecuteTime": {
     "end_time": "2023-09-16T16:38:07.759756Z",
     "start_time": "2023-09-16T16:38:04.523700Z"
    }
   },
   "id": "70cceb5856615bf0"
  },
  {
   "cell_type": "code",
   "execution_count": null,
   "outputs": [],
   "source": [],
   "metadata": {
    "collapsed": false
   },
   "id": "265f32c0a4ca6e96"
  }
 ],
 "metadata": {
  "kernelspec": {
   "display_name": "Python 3",
   "language": "python",
   "name": "python3"
  },
  "language_info": {
   "codemirror_mode": {
    "name": "ipython",
    "version": 2
   },
   "file_extension": ".py",
   "mimetype": "text/x-python",
   "name": "python",
   "nbconvert_exporter": "python",
   "pygments_lexer": "ipython2",
   "version": "2.7.6"
  }
 },
 "nbformat": 4,
 "nbformat_minor": 5
}
